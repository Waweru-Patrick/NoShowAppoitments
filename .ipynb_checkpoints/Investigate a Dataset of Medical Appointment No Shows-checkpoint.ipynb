{
 "cells": [
  {
   "cell_type": "markdown",
   "metadata": {
    "slideshow": {
     "slide_type": "-"
    }
   },
   "source": [
    "# Project: Investigate a Dataset of Medical Appointment No Shows\n",
    "\n",
    "## Table of Contents\n",
    "<ul>\n",
    "<li><a href=\"#intro\">Introduction</a></li>\n",
    "<li><a href=\"#wrangling\">Data Wrangling</a></li>\n",
    "<li><a href=\"#eda\">Exploratory Data Analysis</a></li>\n",
    "<li><a href=\"#conclusions\">Conclusions</a></li>\n",
    "</ul>"
   ]
  },
  {
   "cell_type": "markdown",
   "metadata": {
    "slideshow": {
     "slide_type": "subslide"
    }
   },
   "source": [
    "<a id='intro'></a>\n",
    "## Introduction\n",
    "A person makes a doctor appointment, receives all the instructions and end up not showing up? This raises lots of questions into the why of no show. \n",
    "The following investigation include dataset collected information from 100k medical appointments in Brazil and is focused to answer the question into the reasons of patient not showing up for the medical appointment. The dataset include a number of characteristics about the patient;\n",
    "       <Ol>\n",
    "            <li>PatientId - Identification of a patient </li>\n",
    "            <li>AppointmentID - Identification of each appointment</li>\n",
    "            <li>Gender - Male or Female</li>\n",
    "            <li>DataMarcacaoConsulta - The day of the actuall appointment</li>\n",
    "            <li>DataAgendamento - The day someone registered the appointment</li>\n",
    "            <li>Age - How old is the patient </li>\n",
    "            <li>Neighbourhood - Where the appointment takes place</li>\n",
    "            <li>Scholarship</li>\n",
    "            <li>Hipertension</li>\n",
    "            <li>Diabetes</li>\n",
    "            <li>Alcoholism</li>\n",
    "            <li>Handcap</li>\n",
    "            <li>SMS_received - 1 or more messages sent to the patient</li>\n",
    "            <li>No-show</li>    \n",
    "       </Ol>\n",
    "In the report, the following questions will be answered in accordance to the dataset:\n",
    "<ul>\n",
    "    <li> How does the gender affect the appointment show up? </li>\n",
    "    <li> Are the patients on scholarship still adhearing to the appointment dates? </li>\n",
    "    <li> Do age have a relation with the patient show up for the appointment? </li>\n",
    "    <li> What's the relation of age to student with scholarship? </li>\n",
    "</ul>"
   ]
  },
  {
   "cell_type": "code",
   "execution_count": 1,
   "metadata": {},
   "outputs": [],
   "source": [
    "import pandas as pd\n",
    "import numpy as np\n",
    "import matplotlib.pyplot as plt\n",
    "%matplotlib inline\n",
    "import seaborn as sns"
   ]
  },
  {
   "cell_type": "markdown",
   "metadata": {
    "slideshow": {
     "slide_type": "subslide"
    }
   },
   "source": [
    "<a id='wrangling'></a>\n",
    "## Data Wrangling\n",
    "### General Properties"
   ]
  },
  {
   "cell_type": "code",
   "execution_count": 2,
   "metadata": {},
   "outputs": [
    {
     "data": {
      "text/html": [
       "<div>\n",
       "<style scoped>\n",
       "    .dataframe tbody tr th:only-of-type {\n",
       "        vertical-align: middle;\n",
       "    }\n",
       "\n",
       "    .dataframe tbody tr th {\n",
       "        vertical-align: top;\n",
       "    }\n",
       "\n",
       "    .dataframe thead th {\n",
       "        text-align: right;\n",
       "    }\n",
       "</style>\n",
       "<table border=\"1\" class=\"dataframe\">\n",
       "  <thead>\n",
       "    <tr style=\"text-align: right;\">\n",
       "      <th></th>\n",
       "      <th>PatientId</th>\n",
       "      <th>AppointmentID</th>\n",
       "      <th>Gender</th>\n",
       "      <th>ScheduledDay</th>\n",
       "      <th>AppointmentDay</th>\n",
       "      <th>Age</th>\n",
       "      <th>Neighbourhood</th>\n",
       "      <th>Scholarship</th>\n",
       "      <th>Hipertension</th>\n",
       "      <th>Diabetes</th>\n",
       "      <th>Alcoholism</th>\n",
       "      <th>Handcap</th>\n",
       "      <th>SMS_received</th>\n",
       "      <th>No-show</th>\n",
       "    </tr>\n",
       "  </thead>\n",
       "  <tbody>\n",
       "    <tr>\n",
       "      <th>0</th>\n",
       "      <td>2.987250e+13</td>\n",
       "      <td>5642903</td>\n",
       "      <td>F</td>\n",
       "      <td>2016-04-29T18:38:08Z</td>\n",
       "      <td>2016-04-29T00:00:00Z</td>\n",
       "      <td>62</td>\n",
       "      <td>JARDIM DA PENHA</td>\n",
       "      <td>0</td>\n",
       "      <td>1</td>\n",
       "      <td>0</td>\n",
       "      <td>0</td>\n",
       "      <td>0</td>\n",
       "      <td>0</td>\n",
       "      <td>No</td>\n",
       "    </tr>\n",
       "    <tr>\n",
       "      <th>1</th>\n",
       "      <td>5.589978e+14</td>\n",
       "      <td>5642503</td>\n",
       "      <td>M</td>\n",
       "      <td>2016-04-29T16:08:27Z</td>\n",
       "      <td>2016-04-29T00:00:00Z</td>\n",
       "      <td>56</td>\n",
       "      <td>JARDIM DA PENHA</td>\n",
       "      <td>0</td>\n",
       "      <td>0</td>\n",
       "      <td>0</td>\n",
       "      <td>0</td>\n",
       "      <td>0</td>\n",
       "      <td>0</td>\n",
       "      <td>No</td>\n",
       "    </tr>\n",
       "    <tr>\n",
       "      <th>2</th>\n",
       "      <td>4.262962e+12</td>\n",
       "      <td>5642549</td>\n",
       "      <td>F</td>\n",
       "      <td>2016-04-29T16:19:04Z</td>\n",
       "      <td>2016-04-29T00:00:00Z</td>\n",
       "      <td>62</td>\n",
       "      <td>MATA DA PRAIA</td>\n",
       "      <td>0</td>\n",
       "      <td>0</td>\n",
       "      <td>0</td>\n",
       "      <td>0</td>\n",
       "      <td>0</td>\n",
       "      <td>0</td>\n",
       "      <td>No</td>\n",
       "    </tr>\n",
       "    <tr>\n",
       "      <th>3</th>\n",
       "      <td>8.679512e+11</td>\n",
       "      <td>5642828</td>\n",
       "      <td>F</td>\n",
       "      <td>2016-04-29T17:29:31Z</td>\n",
       "      <td>2016-04-29T00:00:00Z</td>\n",
       "      <td>8</td>\n",
       "      <td>PONTAL DE CAMBURI</td>\n",
       "      <td>0</td>\n",
       "      <td>0</td>\n",
       "      <td>0</td>\n",
       "      <td>0</td>\n",
       "      <td>0</td>\n",
       "      <td>0</td>\n",
       "      <td>No</td>\n",
       "    </tr>\n",
       "    <tr>\n",
       "      <th>4</th>\n",
       "      <td>8.841186e+12</td>\n",
       "      <td>5642494</td>\n",
       "      <td>F</td>\n",
       "      <td>2016-04-29T16:07:23Z</td>\n",
       "      <td>2016-04-29T00:00:00Z</td>\n",
       "      <td>56</td>\n",
       "      <td>JARDIM DA PENHA</td>\n",
       "      <td>0</td>\n",
       "      <td>1</td>\n",
       "      <td>1</td>\n",
       "      <td>0</td>\n",
       "      <td>0</td>\n",
       "      <td>0</td>\n",
       "      <td>No</td>\n",
       "    </tr>\n",
       "  </tbody>\n",
       "</table>\n",
       "</div>"
      ],
      "text/plain": [
       "      PatientId  AppointmentID Gender          ScheduledDay  \\\n",
       "0  2.987250e+13        5642903      F  2016-04-29T18:38:08Z   \n",
       "1  5.589978e+14        5642503      M  2016-04-29T16:08:27Z   \n",
       "2  4.262962e+12        5642549      F  2016-04-29T16:19:04Z   \n",
       "3  8.679512e+11        5642828      F  2016-04-29T17:29:31Z   \n",
       "4  8.841186e+12        5642494      F  2016-04-29T16:07:23Z   \n",
       "\n",
       "         AppointmentDay  Age      Neighbourhood  Scholarship  Hipertension  \\\n",
       "0  2016-04-29T00:00:00Z   62    JARDIM DA PENHA            0             1   \n",
       "1  2016-04-29T00:00:00Z   56    JARDIM DA PENHA            0             0   \n",
       "2  2016-04-29T00:00:00Z   62      MATA DA PRAIA            0             0   \n",
       "3  2016-04-29T00:00:00Z    8  PONTAL DE CAMBURI            0             0   \n",
       "4  2016-04-29T00:00:00Z   56    JARDIM DA PENHA            0             1   \n",
       "\n",
       "   Diabetes  Alcoholism  Handcap  SMS_received No-show  \n",
       "0         0           0        0             0      No  \n",
       "1         0           0        0             0      No  \n",
       "2         0           0        0             0      No  \n",
       "3         0           0        0             0      No  \n",
       "4         1           0        0             0      No  "
      ]
     },
     "execution_count": 2,
     "metadata": {},
     "output_type": "execute_result"
    }
   ],
   "source": [
    "#Gathering of data and print out a few lines.\n",
    "df = pd.read_csv(\"https://d17h27t6h515a5.cloudfront.net/topher/2017/October/59dd2e9a_noshowappointments-kagglev2-may-2016/noshowappointments-kagglev2-may-2016.csv\")\n",
    "df.head()"
   ]
  },
  {
   "cell_type": "code",
   "execution_count": 3,
   "metadata": {
    "scrolled": true
   },
   "outputs": [
    {
     "data": {
      "text/plain": [
       "(110527, 14)"
      ]
     },
     "execution_count": 3,
     "metadata": {},
     "output_type": "execute_result"
    }
   ],
   "source": [
    "#Inspecting data\n",
    "df.shape"
   ]
  },
  {
   "cell_type": "code",
   "execution_count": 4,
   "metadata": {},
   "outputs": [
    {
     "name": "stdout",
     "output_type": "stream",
     "text": [
      "<class 'pandas.core.frame.DataFrame'>\n",
      "RangeIndex: 110527 entries, 0 to 110526\n",
      "Data columns (total 14 columns):\n",
      " #   Column          Non-Null Count   Dtype  \n",
      "---  ------          --------------   -----  \n",
      " 0   PatientId       110527 non-null  float64\n",
      " 1   AppointmentID   110527 non-null  int64  \n",
      " 2   Gender          110527 non-null  object \n",
      " 3   ScheduledDay    110527 non-null  object \n",
      " 4   AppointmentDay  110527 non-null  object \n",
      " 5   Age             110527 non-null  int64  \n",
      " 6   Neighbourhood   110527 non-null  object \n",
      " 7   Scholarship     110527 non-null  int64  \n",
      " 8   Hipertension    110527 non-null  int64  \n",
      " 9   Diabetes        110527 non-null  int64  \n",
      " 10  Alcoholism      110527 non-null  int64  \n",
      " 11  Handcap         110527 non-null  int64  \n",
      " 12  SMS_received    110527 non-null  int64  \n",
      " 13  No-show         110527 non-null  object \n",
      "dtypes: float64(1), int64(8), object(5)\n",
      "memory usage: 11.8+ MB\n"
     ]
    }
   ],
   "source": [
    "# Checking for missing values in the dataset\n",
    "df.info()"
   ]
  },
  {
   "cell_type": "code",
   "execution_count": 5,
   "metadata": {
    "scrolled": true
   },
   "outputs": [
    {
     "data": {
      "text/plain": [
       "False"
      ]
     },
     "execution_count": 5,
     "metadata": {},
     "output_type": "execute_result"
    }
   ],
   "source": [
    "#Check for any duplicated values (False if none)\n",
    "df.duplicated().any() "
   ]
  },
  {
   "cell_type": "code",
   "execution_count": 6,
   "metadata": {},
   "outputs": [
    {
     "data": {
      "text/html": [
       "<div>\n",
       "<style scoped>\n",
       "    .dataframe tbody tr th:only-of-type {\n",
       "        vertical-align: middle;\n",
       "    }\n",
       "\n",
       "    .dataframe tbody tr th {\n",
       "        vertical-align: top;\n",
       "    }\n",
       "\n",
       "    .dataframe thead th {\n",
       "        text-align: right;\n",
       "    }\n",
       "</style>\n",
       "<table border=\"1\" class=\"dataframe\">\n",
       "  <thead>\n",
       "    <tr style=\"text-align: right;\">\n",
       "      <th></th>\n",
       "      <th>PatientId</th>\n",
       "      <th>AppointmentID</th>\n",
       "      <th>Age</th>\n",
       "      <th>Scholarship</th>\n",
       "      <th>Hipertension</th>\n",
       "      <th>Diabetes</th>\n",
       "      <th>Alcoholism</th>\n",
       "      <th>Handcap</th>\n",
       "      <th>SMS_received</th>\n",
       "    </tr>\n",
       "  </thead>\n",
       "  <tbody>\n",
       "    <tr>\n",
       "      <th>count</th>\n",
       "      <td>1.105270e+05</td>\n",
       "      <td>1.105270e+05</td>\n",
       "      <td>110527.000000</td>\n",
       "      <td>110527.000000</td>\n",
       "      <td>110527.000000</td>\n",
       "      <td>110527.000000</td>\n",
       "      <td>110527.000000</td>\n",
       "      <td>110527.000000</td>\n",
       "      <td>110527.000000</td>\n",
       "    </tr>\n",
       "    <tr>\n",
       "      <th>mean</th>\n",
       "      <td>1.474963e+14</td>\n",
       "      <td>5.675305e+06</td>\n",
       "      <td>37.088874</td>\n",
       "      <td>0.098266</td>\n",
       "      <td>0.197246</td>\n",
       "      <td>0.071865</td>\n",
       "      <td>0.030400</td>\n",
       "      <td>0.022248</td>\n",
       "      <td>0.321026</td>\n",
       "    </tr>\n",
       "    <tr>\n",
       "      <th>std</th>\n",
       "      <td>2.560949e+14</td>\n",
       "      <td>7.129575e+04</td>\n",
       "      <td>23.110205</td>\n",
       "      <td>0.297675</td>\n",
       "      <td>0.397921</td>\n",
       "      <td>0.258265</td>\n",
       "      <td>0.171686</td>\n",
       "      <td>0.161543</td>\n",
       "      <td>0.466873</td>\n",
       "    </tr>\n",
       "    <tr>\n",
       "      <th>min</th>\n",
       "      <td>3.921784e+04</td>\n",
       "      <td>5.030230e+06</td>\n",
       "      <td>-1.000000</td>\n",
       "      <td>0.000000</td>\n",
       "      <td>0.000000</td>\n",
       "      <td>0.000000</td>\n",
       "      <td>0.000000</td>\n",
       "      <td>0.000000</td>\n",
       "      <td>0.000000</td>\n",
       "    </tr>\n",
       "    <tr>\n",
       "      <th>25%</th>\n",
       "      <td>4.172614e+12</td>\n",
       "      <td>5.640286e+06</td>\n",
       "      <td>18.000000</td>\n",
       "      <td>0.000000</td>\n",
       "      <td>0.000000</td>\n",
       "      <td>0.000000</td>\n",
       "      <td>0.000000</td>\n",
       "      <td>0.000000</td>\n",
       "      <td>0.000000</td>\n",
       "    </tr>\n",
       "    <tr>\n",
       "      <th>50%</th>\n",
       "      <td>3.173184e+13</td>\n",
       "      <td>5.680573e+06</td>\n",
       "      <td>37.000000</td>\n",
       "      <td>0.000000</td>\n",
       "      <td>0.000000</td>\n",
       "      <td>0.000000</td>\n",
       "      <td>0.000000</td>\n",
       "      <td>0.000000</td>\n",
       "      <td>0.000000</td>\n",
       "    </tr>\n",
       "    <tr>\n",
       "      <th>75%</th>\n",
       "      <td>9.439172e+13</td>\n",
       "      <td>5.725524e+06</td>\n",
       "      <td>55.000000</td>\n",
       "      <td>0.000000</td>\n",
       "      <td>0.000000</td>\n",
       "      <td>0.000000</td>\n",
       "      <td>0.000000</td>\n",
       "      <td>0.000000</td>\n",
       "      <td>1.000000</td>\n",
       "    </tr>\n",
       "    <tr>\n",
       "      <th>max</th>\n",
       "      <td>9.999816e+14</td>\n",
       "      <td>5.790484e+06</td>\n",
       "      <td>115.000000</td>\n",
       "      <td>1.000000</td>\n",
       "      <td>1.000000</td>\n",
       "      <td>1.000000</td>\n",
       "      <td>1.000000</td>\n",
       "      <td>4.000000</td>\n",
       "      <td>1.000000</td>\n",
       "    </tr>\n",
       "  </tbody>\n",
       "</table>\n",
       "</div>"
      ],
      "text/plain": [
       "          PatientId  AppointmentID            Age    Scholarship  \\\n",
       "count  1.105270e+05   1.105270e+05  110527.000000  110527.000000   \n",
       "mean   1.474963e+14   5.675305e+06      37.088874       0.098266   \n",
       "std    2.560949e+14   7.129575e+04      23.110205       0.297675   \n",
       "min    3.921784e+04   5.030230e+06      -1.000000       0.000000   \n",
       "25%    4.172614e+12   5.640286e+06      18.000000       0.000000   \n",
       "50%    3.173184e+13   5.680573e+06      37.000000       0.000000   \n",
       "75%    9.439172e+13   5.725524e+06      55.000000       0.000000   \n",
       "max    9.999816e+14   5.790484e+06     115.000000       1.000000   \n",
       "\n",
       "        Hipertension       Diabetes     Alcoholism        Handcap  \\\n",
       "count  110527.000000  110527.000000  110527.000000  110527.000000   \n",
       "mean        0.197246       0.071865       0.030400       0.022248   \n",
       "std         0.397921       0.258265       0.171686       0.161543   \n",
       "min         0.000000       0.000000       0.000000       0.000000   \n",
       "25%         0.000000       0.000000       0.000000       0.000000   \n",
       "50%         0.000000       0.000000       0.000000       0.000000   \n",
       "75%         0.000000       0.000000       0.000000       0.000000   \n",
       "max         1.000000       1.000000       1.000000       4.000000   \n",
       "\n",
       "        SMS_received  \n",
       "count  110527.000000  \n",
       "mean        0.321026  \n",
       "std         0.466873  \n",
       "min         0.000000  \n",
       "25%         0.000000  \n",
       "50%         0.000000  \n",
       "75%         1.000000  \n",
       "max         1.000000  "
      ]
     },
     "execution_count": 6,
     "metadata": {},
     "output_type": "execute_result"
    }
   ],
   "source": [
    "#Getting a description of dataset\n",
    "df.describe() "
   ]
  },
  {
   "cell_type": "code",
   "execution_count": 7,
   "metadata": {},
   "outputs": [
    {
     "data": {
      "text/plain": [
       "1"
      ]
     },
     "execution_count": 7,
     "metadata": {},
     "output_type": "execute_result"
    }
   ],
   "source": [
    "#Creating a function to find age value = negative patient age\n",
    "def neg_age_equation():\n",
    "    neg=df.query('Age < 0')\n",
    "    return neg\n",
    "#Age values in the dataset with negative patient age\n",
    "neg_age_equation().Age.count()"
   ]
  },
  {
   "cell_type": "markdown",
   "metadata": {},
   "source": [
    "### Data inspection  \n",
    "The dataset comprises of 110527 rows and 14 columns.<br>\n",
    "No missing data in all the 14 columns and duplicated data thus, no data to be dropped as Nan.<br>\n",
    "Removal of data from the age column with negative age value resulting in a minimum of zero.<br>\n",
    "Columns to be removed: PatientId, AppointmentID, ScheduledDay, AppointmentDay, Neighbourhood, Hipertension, Diabetes, Alcoholism, Handcap and SMS_received thus, the number of columns to remain should be 4 .<br>\n",
    "Renaming of the No-show column to No_show.\n",
    "Added a new column of the representing the show up column in int data type."
   ]
  },
  {
   "cell_type": "code",
   "execution_count": 8,
   "metadata": {},
   "outputs": [
    {
     "name": "stdout",
     "output_type": "stream",
     "text": [
      "<class 'pandas.core.frame.DataFrame'>\n",
      "Int64Index: 110526 entries, 0 to 110526\n",
      "Data columns (total 14 columns):\n",
      " #   Column          Non-Null Count   Dtype  \n",
      "---  ------          --------------   -----  \n",
      " 0   PatientId       110526 non-null  float64\n",
      " 1   AppointmentID   110526 non-null  int64  \n",
      " 2   Gender          110526 non-null  object \n",
      " 3   ScheduledDay    110526 non-null  object \n",
      " 4   AppointmentDay  110526 non-null  object \n",
      " 5   Age             110526 non-null  int64  \n",
      " 6   Neighbourhood   110526 non-null  object \n",
      " 7   Scholarship     110526 non-null  int64  \n",
      " 8   Hipertension    110526 non-null  int64  \n",
      " 9   Diabetes        110526 non-null  int64  \n",
      " 10  Alcoholism      110526 non-null  int64  \n",
      " 11  Handcap         110526 non-null  int64  \n",
      " 12  SMS_received    110526 non-null  int64  \n",
      " 13  No-show         110526 non-null  object \n",
      "dtypes: float64(1), int64(8), object(5)\n",
      "memory usage: 12.6+ MB\n"
     ]
    }
   ],
   "source": [
    "#Delete rows where age of patients negative\n",
    "index_names=neg_age_equation().index\n",
    "df.drop(index_names, inplace= True)\n",
    "df.info()"
   ]
  },
  {
   "cell_type": "code",
   "execution_count": 9,
   "metadata": {},
   "outputs": [
    {
     "data": {
      "text/plain": [
       "count    110526.000000\n",
       "mean         37.089219\n",
       "std          23.110026\n",
       "min           0.000000\n",
       "25%          18.000000\n",
       "50%          37.000000\n",
       "75%          55.000000\n",
       "max         115.000000\n",
       "Name: Age, dtype: float64"
      ]
     },
     "execution_count": 9,
     "metadata": {},
     "output_type": "execute_result"
    }
   ],
   "source": [
    "##Ensuring that all the negative age value are dropped by inspecting minimum age value\n",
    "df.Age.describe()"
   ]
  },
  {
   "cell_type": "markdown",
   "metadata": {},
   "source": [
    "Removal of data from the age column with zero age value resulting in a minimum of zero."
   ]
  },
  {
   "cell_type": "code",
   "execution_count": 10,
   "metadata": {},
   "outputs": [
    {
     "data": {
      "text/plain": [
       "3539"
      ]
     },
     "execution_count": 10,
     "metadata": {},
     "output_type": "execute_result"
    }
   ],
   "source": [
    "# Creating a function to find age value = 0\n",
    "def zero_age_equation():\n",
    "    data=df.query('Age == 0')\n",
    "    return data\n",
    "#Age values in the dataset with zero patient age\n",
    "zero_age_equation().Age.count()"
   ]
  },
  {
   "cell_type": "code",
   "execution_count": 11,
   "metadata": {},
   "outputs": [
    {
     "name": "stdout",
     "output_type": "stream",
     "text": [
      "<class 'pandas.core.frame.DataFrame'>\n",
      "Int64Index: 106987 entries, 0 to 110526\n",
      "Data columns (total 14 columns):\n",
      " #   Column          Non-Null Count   Dtype  \n",
      "---  ------          --------------   -----  \n",
      " 0   PatientId       106987 non-null  float64\n",
      " 1   AppointmentID   106987 non-null  int64  \n",
      " 2   Gender          106987 non-null  object \n",
      " 3   ScheduledDay    106987 non-null  object \n",
      " 4   AppointmentDay  106987 non-null  object \n",
      " 5   Age             106987 non-null  int64  \n",
      " 6   Neighbourhood   106987 non-null  object \n",
      " 7   Scholarship     106987 non-null  int64  \n",
      " 8   Hipertension    106987 non-null  int64  \n",
      " 9   Diabetes        106987 non-null  int64  \n",
      " 10  Alcoholism      106987 non-null  int64  \n",
      " 11  Handcap         106987 non-null  int64  \n",
      " 12  SMS_received    106987 non-null  int64  \n",
      " 13  No-show         106987 non-null  object \n",
      "dtypes: float64(1), int64(8), object(5)\n",
      "memory usage: 12.2+ MB\n"
     ]
    }
   ],
   "source": [
    "#Delete rows where age of patients negative\n",
    "index_names = zero_age_equation().index\n",
    "df.drop(index_names, inplace= True)\n",
    "df.info()"
   ]
  },
  {
   "cell_type": "code",
   "execution_count": 12,
   "metadata": {
    "scrolled": true
   },
   "outputs": [
    {
     "data": {
      "text/plain": [
       "count    106987.000000\n",
       "mean         38.316085\n",
       "std          22.466214\n",
       "min           1.000000\n",
       "25%          19.000000\n",
       "50%          38.000000\n",
       "75%          56.000000\n",
       "max         115.000000\n",
       "Name: Age, dtype: float64"
      ]
     },
     "execution_count": 12,
     "metadata": {},
     "output_type": "execute_result"
    }
   ],
   "source": [
    "#Ensuring that all the zero age value are dropped by inspecting minimum age value\n",
    "df.Age.describe()"
   ]
  },
  {
   "cell_type": "code",
   "execution_count": 13,
   "metadata": {
    "scrolled": true
   },
   "outputs": [
    {
     "data": {
      "text/html": [
       "<div>\n",
       "<style scoped>\n",
       "    .dataframe tbody tr th:only-of-type {\n",
       "        vertical-align: middle;\n",
       "    }\n",
       "\n",
       "    .dataframe tbody tr th {\n",
       "        vertical-align: top;\n",
       "    }\n",
       "\n",
       "    .dataframe thead th {\n",
       "        text-align: right;\n",
       "    }\n",
       "</style>\n",
       "<table border=\"1\" class=\"dataframe\">\n",
       "  <thead>\n",
       "    <tr style=\"text-align: right;\">\n",
       "      <th></th>\n",
       "      <th>Gender</th>\n",
       "      <th>Age</th>\n",
       "      <th>Scholarship</th>\n",
       "      <th>No-show</th>\n",
       "    </tr>\n",
       "  </thead>\n",
       "  <tbody>\n",
       "    <tr>\n",
       "      <th>0</th>\n",
       "      <td>F</td>\n",
       "      <td>62</td>\n",
       "      <td>0</td>\n",
       "      <td>No</td>\n",
       "    </tr>\n",
       "    <tr>\n",
       "      <th>1</th>\n",
       "      <td>M</td>\n",
       "      <td>56</td>\n",
       "      <td>0</td>\n",
       "      <td>No</td>\n",
       "    </tr>\n",
       "    <tr>\n",
       "      <th>2</th>\n",
       "      <td>F</td>\n",
       "      <td>62</td>\n",
       "      <td>0</td>\n",
       "      <td>No</td>\n",
       "    </tr>\n",
       "    <tr>\n",
       "      <th>3</th>\n",
       "      <td>F</td>\n",
       "      <td>8</td>\n",
       "      <td>0</td>\n",
       "      <td>No</td>\n",
       "    </tr>\n",
       "    <tr>\n",
       "      <th>4</th>\n",
       "      <td>F</td>\n",
       "      <td>56</td>\n",
       "      <td>0</td>\n",
       "      <td>No</td>\n",
       "    </tr>\n",
       "  </tbody>\n",
       "</table>\n",
       "</div>"
      ],
      "text/plain": [
       "  Gender  Age  Scholarship No-show\n",
       "0      F   62            0      No\n",
       "1      M   56            0      No\n",
       "2      F   62            0      No\n",
       "3      F    8            0      No\n",
       "4      F   56            0      No"
      ]
     },
     "execution_count": 13,
     "metadata": {},
     "output_type": "execute_result"
    }
   ],
   "source": [
    "#cleaning of the data by dropping some of the columns no to be used in the analysis.\n",
    "df.drop(['PatientId','AppointmentID','ScheduledDay','AppointmentDay','Neighbourhood','Hipertension', 'Diabetes', 'Alcoholism','Handcap', 'SMS_received'], axis=1, inplace=True)\n",
    "df.head()"
   ]
  },
  {
   "cell_type": "code",
   "execution_count": 14,
   "metadata": {
    "scrolled": true
   },
   "outputs": [
    {
     "name": "stdout",
     "output_type": "stream",
     "text": [
      "<class 'pandas.core.frame.DataFrame'>\n",
      "Int64Index: 106987 entries, 0 to 110526\n",
      "Data columns (total 4 columns):\n",
      " #   Column       Non-Null Count   Dtype \n",
      "---  ------       --------------   ----- \n",
      " 0   Gender       106987 non-null  object\n",
      " 1   Age          106987 non-null  int64 \n",
      " 2   Scholarship  106987 non-null  int64 \n",
      " 3   No-show      106987 non-null  object\n",
      "dtypes: int64(2), object(2)\n",
      "memory usage: 4.1+ MB\n"
     ]
    }
   ],
   "source": [
    "#Review of the remaining dataset for number of rows and columns\n",
    "df.info()"
   ]
  },
  {
   "cell_type": "code",
   "execution_count": 15,
   "metadata": {
    "scrolled": false
   },
   "outputs": [
    {
     "data": {
      "text/plain": [
       "Gender         False\n",
       "Age            False\n",
       "Scholarship    False\n",
       "No-show        False\n",
       "dtype: bool"
      ]
     },
     "execution_count": 15,
     "metadata": {},
     "output_type": "execute_result"
    }
   ],
   "source": [
    "#Review of the remaining dataset for any blank value(False if none)\n",
    "df.isnull().any()"
   ]
  },
  {
   "cell_type": "code",
   "execution_count": 16,
   "metadata": {
    "scrolled": true
   },
   "outputs": [
    {
     "data": {
      "text/html": [
       "<div>\n",
       "<style scoped>\n",
       "    .dataframe tbody tr th:only-of-type {\n",
       "        vertical-align: middle;\n",
       "    }\n",
       "\n",
       "    .dataframe tbody tr th {\n",
       "        vertical-align: top;\n",
       "    }\n",
       "\n",
       "    .dataframe thead th {\n",
       "        text-align: right;\n",
       "    }\n",
       "</style>\n",
       "<table border=\"1\" class=\"dataframe\">\n",
       "  <thead>\n",
       "    <tr style=\"text-align: right;\">\n",
       "      <th></th>\n",
       "      <th>Gender</th>\n",
       "      <th>Age</th>\n",
       "      <th>Scholarship</th>\n",
       "      <th>No_show</th>\n",
       "    </tr>\n",
       "  </thead>\n",
       "  <tbody>\n",
       "    <tr>\n",
       "      <th>0</th>\n",
       "      <td>F</td>\n",
       "      <td>62</td>\n",
       "      <td>0</td>\n",
       "      <td>No</td>\n",
       "    </tr>\n",
       "    <tr>\n",
       "      <th>1</th>\n",
       "      <td>M</td>\n",
       "      <td>56</td>\n",
       "      <td>0</td>\n",
       "      <td>No</td>\n",
       "    </tr>\n",
       "    <tr>\n",
       "      <th>2</th>\n",
       "      <td>F</td>\n",
       "      <td>62</td>\n",
       "      <td>0</td>\n",
       "      <td>No</td>\n",
       "    </tr>\n",
       "    <tr>\n",
       "      <th>3</th>\n",
       "      <td>F</td>\n",
       "      <td>8</td>\n",
       "      <td>0</td>\n",
       "      <td>No</td>\n",
       "    </tr>\n",
       "    <tr>\n",
       "      <th>4</th>\n",
       "      <td>F</td>\n",
       "      <td>56</td>\n",
       "      <td>0</td>\n",
       "      <td>No</td>\n",
       "    </tr>\n",
       "    <tr>\n",
       "      <th>...</th>\n",
       "      <td>...</td>\n",
       "      <td>...</td>\n",
       "      <td>...</td>\n",
       "      <td>...</td>\n",
       "    </tr>\n",
       "    <tr>\n",
       "      <th>110522</th>\n",
       "      <td>F</td>\n",
       "      <td>56</td>\n",
       "      <td>0</td>\n",
       "      <td>No</td>\n",
       "    </tr>\n",
       "    <tr>\n",
       "      <th>110523</th>\n",
       "      <td>F</td>\n",
       "      <td>51</td>\n",
       "      <td>0</td>\n",
       "      <td>No</td>\n",
       "    </tr>\n",
       "    <tr>\n",
       "      <th>110524</th>\n",
       "      <td>F</td>\n",
       "      <td>21</td>\n",
       "      <td>0</td>\n",
       "      <td>No</td>\n",
       "    </tr>\n",
       "    <tr>\n",
       "      <th>110525</th>\n",
       "      <td>F</td>\n",
       "      <td>38</td>\n",
       "      <td>0</td>\n",
       "      <td>No</td>\n",
       "    </tr>\n",
       "    <tr>\n",
       "      <th>110526</th>\n",
       "      <td>F</td>\n",
       "      <td>54</td>\n",
       "      <td>0</td>\n",
       "      <td>No</td>\n",
       "    </tr>\n",
       "  </tbody>\n",
       "</table>\n",
       "<p>106987 rows × 4 columns</p>\n",
       "</div>"
      ],
      "text/plain": [
       "       Gender  Age  Scholarship No_show\n",
       "0           F   62            0      No\n",
       "1           M   56            0      No\n",
       "2           F   62            0      No\n",
       "3           F    8            0      No\n",
       "4           F   56            0      No\n",
       "...       ...  ...          ...     ...\n",
       "110522      F   56            0      No\n",
       "110523      F   51            0      No\n",
       "110524      F   21            0      No\n",
       "110525      F   38            0      No\n",
       "110526      F   54            0      No\n",
       "\n",
       "[106987 rows x 4 columns]"
      ]
     },
     "execution_count": 16,
     "metadata": {},
     "output_type": "execute_result"
    }
   ],
   "source": [
    "# Renaming of the No-show column to No_show \n",
    "df.rename(columns={\"No-show\": \"No_show\"}, inplace=True)\n",
    "df"
   ]
  },
  {
   "cell_type": "code",
   "execution_count": 17,
   "metadata": {
    "scrolled": true
   },
   "outputs": [
    {
     "data": {
      "text/html": [
       "<div>\n",
       "<style scoped>\n",
       "    .dataframe tbody tr th:only-of-type {\n",
       "        vertical-align: middle;\n",
       "    }\n",
       "\n",
       "    .dataframe tbody tr th {\n",
       "        vertical-align: top;\n",
       "    }\n",
       "\n",
       "    .dataframe thead th {\n",
       "        text-align: right;\n",
       "    }\n",
       "</style>\n",
       "<table border=\"1\" class=\"dataframe\">\n",
       "  <thead>\n",
       "    <tr style=\"text-align: right;\">\n",
       "      <th></th>\n",
       "      <th>Age</th>\n",
       "      <th>Scholarship</th>\n",
       "    </tr>\n",
       "  </thead>\n",
       "  <tbody>\n",
       "    <tr>\n",
       "      <th>count</th>\n",
       "      <td>106987.000000</td>\n",
       "      <td>106987.000000</td>\n",
       "    </tr>\n",
       "    <tr>\n",
       "      <th>mean</th>\n",
       "      <td>38.316085</td>\n",
       "      <td>0.101031</td>\n",
       "    </tr>\n",
       "    <tr>\n",
       "      <th>std</th>\n",
       "      <td>22.466214</td>\n",
       "      <td>0.301371</td>\n",
       "    </tr>\n",
       "    <tr>\n",
       "      <th>min</th>\n",
       "      <td>1.000000</td>\n",
       "      <td>0.000000</td>\n",
       "    </tr>\n",
       "    <tr>\n",
       "      <th>25%</th>\n",
       "      <td>19.000000</td>\n",
       "      <td>0.000000</td>\n",
       "    </tr>\n",
       "    <tr>\n",
       "      <th>50%</th>\n",
       "      <td>38.000000</td>\n",
       "      <td>0.000000</td>\n",
       "    </tr>\n",
       "    <tr>\n",
       "      <th>75%</th>\n",
       "      <td>56.000000</td>\n",
       "      <td>0.000000</td>\n",
       "    </tr>\n",
       "    <tr>\n",
       "      <th>max</th>\n",
       "      <td>115.000000</td>\n",
       "      <td>1.000000</td>\n",
       "    </tr>\n",
       "  </tbody>\n",
       "</table>\n",
       "</div>"
      ],
      "text/plain": [
       "                 Age    Scholarship\n",
       "count  106987.000000  106987.000000\n",
       "mean       38.316085       0.101031\n",
       "std        22.466214       0.301371\n",
       "min         1.000000       0.000000\n",
       "25%        19.000000       0.000000\n",
       "50%        38.000000       0.000000\n",
       "75%        56.000000       0.000000\n",
       "max       115.000000       1.000000"
      ]
     },
     "execution_count": 17,
     "metadata": {},
     "output_type": "execute_result"
    }
   ],
   "source": [
    "df.describe()"
   ]
  },
  {
   "cell_type": "code",
   "execution_count": 18,
   "metadata": {},
   "outputs": [
    {
     "data": {
      "text/html": [
       "<div>\n",
       "<style scoped>\n",
       "    .dataframe tbody tr th:only-of-type {\n",
       "        vertical-align: middle;\n",
       "    }\n",
       "\n",
       "    .dataframe tbody tr th {\n",
       "        vertical-align: top;\n",
       "    }\n",
       "\n",
       "    .dataframe thead th {\n",
       "        text-align: right;\n",
       "    }\n",
       "</style>\n",
       "<table border=\"1\" class=\"dataframe\">\n",
       "  <thead>\n",
       "    <tr style=\"text-align: right;\">\n",
       "      <th></th>\n",
       "      <th>Gender</th>\n",
       "      <th>Age</th>\n",
       "      <th>Scholarship</th>\n",
       "      <th>No_show</th>\n",
       "      <th>Numeric_show</th>\n",
       "    </tr>\n",
       "  </thead>\n",
       "  <tbody>\n",
       "    <tr>\n",
       "      <th>0</th>\n",
       "      <td>F</td>\n",
       "      <td>62</td>\n",
       "      <td>0</td>\n",
       "      <td>No</td>\n",
       "      <td>0</td>\n",
       "    </tr>\n",
       "    <tr>\n",
       "      <th>1</th>\n",
       "      <td>M</td>\n",
       "      <td>56</td>\n",
       "      <td>0</td>\n",
       "      <td>No</td>\n",
       "      <td>0</td>\n",
       "    </tr>\n",
       "    <tr>\n",
       "      <th>2</th>\n",
       "      <td>F</td>\n",
       "      <td>62</td>\n",
       "      <td>0</td>\n",
       "      <td>No</td>\n",
       "      <td>0</td>\n",
       "    </tr>\n",
       "    <tr>\n",
       "      <th>3</th>\n",
       "      <td>F</td>\n",
       "      <td>8</td>\n",
       "      <td>0</td>\n",
       "      <td>No</td>\n",
       "      <td>0</td>\n",
       "    </tr>\n",
       "    <tr>\n",
       "      <th>4</th>\n",
       "      <td>F</td>\n",
       "      <td>56</td>\n",
       "      <td>0</td>\n",
       "      <td>No</td>\n",
       "      <td>0</td>\n",
       "    </tr>\n",
       "    <tr>\n",
       "      <th>5</th>\n",
       "      <td>F</td>\n",
       "      <td>76</td>\n",
       "      <td>0</td>\n",
       "      <td>No</td>\n",
       "      <td>0</td>\n",
       "    </tr>\n",
       "    <tr>\n",
       "      <th>6</th>\n",
       "      <td>F</td>\n",
       "      <td>23</td>\n",
       "      <td>0</td>\n",
       "      <td>Yes</td>\n",
       "      <td>1</td>\n",
       "    </tr>\n",
       "    <tr>\n",
       "      <th>7</th>\n",
       "      <td>F</td>\n",
       "      <td>39</td>\n",
       "      <td>0</td>\n",
       "      <td>Yes</td>\n",
       "      <td>1</td>\n",
       "    </tr>\n",
       "    <tr>\n",
       "      <th>8</th>\n",
       "      <td>F</td>\n",
       "      <td>21</td>\n",
       "      <td>0</td>\n",
       "      <td>No</td>\n",
       "      <td>0</td>\n",
       "    </tr>\n",
       "    <tr>\n",
       "      <th>9</th>\n",
       "      <td>F</td>\n",
       "      <td>19</td>\n",
       "      <td>0</td>\n",
       "      <td>No</td>\n",
       "      <td>0</td>\n",
       "    </tr>\n",
       "  </tbody>\n",
       "</table>\n",
       "</div>"
      ],
      "text/plain": [
       "  Gender  Age  Scholarship No_show  Numeric_show\n",
       "0      F   62            0      No             0\n",
       "1      M   56            0      No             0\n",
       "2      F   62            0      No             0\n",
       "3      F    8            0      No             0\n",
       "4      F   56            0      No             0\n",
       "5      F   76            0      No             0\n",
       "6      F   23            0     Yes             1\n",
       "7      F   39            0     Yes             1\n",
       "8      F   21            0      No             0\n",
       "9      F   19            0      No             0"
      ]
     },
     "execution_count": 18,
     "metadata": {},
     "output_type": "execute_result"
    }
   ],
   "source": [
    "# converegion of No_show object into int\n",
    "df[\"Numeric_show\"] = (df['No_show']=='Yes').astype(int) \n",
    "df.head(10)"
   ]
  },
  {
   "cell_type": "code",
   "execution_count": 19,
   "metadata": {
    "scrolled": true
   },
   "outputs": [
    {
     "data": {
      "text/plain": [
       "(106987, 5)"
      ]
     },
     "execution_count": 19,
     "metadata": {},
     "output_type": "execute_result"
    }
   ],
   "source": [
    "#Remaining numbers of rows and columns\n",
    "df.shape"
   ]
  },
  {
   "cell_type": "markdown",
   "metadata": {},
   "source": [
    "### Data Cleaning\n",
    "Removed negative age and zero value that gives an age minimum value of negative and zero resulting to  106,987rows.<br>\n",
    "Dropped ten Columns thus the number of columns that remained were 4.<br>\n",
    "Renamed the No-show column to No_show.<br>\n",
    "New column representing show_up in int Dada type<br>\n",
    "The dataset now comprises of 106987 rows and 5 columns.\n",
    "\n"
   ]
  },
  {
   "cell_type": "markdown",
   "metadata": {},
   "source": [
    "<a id='eda'></a>\n",
    "## Exploratory Data Analysis"
   ]
  },
  {
   "cell_type": "code",
   "execution_count": 20,
   "metadata": {},
   "outputs": [
    {
     "name": "stdout",
     "output_type": "stream",
     "text": [
      "0    96178\n",
      "1    10809\n",
      "Name: Scholarship, dtype: int64\n",
      "F    70118\n",
      "M    36869\n",
      "Name: Gender, dtype: int64\n",
      "No     85307\n",
      "Yes    21680\n",
      "Name: No_show, dtype: int64\n"
     ]
    }
   ],
   "source": [
    "for data in df[['Scholarship', 'Gender', 'No_show']]:\n",
    "    print(df[data].value_counts())"
   ]
  },
  {
   "cell_type": "markdown",
   "metadata": {},
   "source": [
    "#### How many show up and no show were there?"
   ]
  },
  {
   "cell_type": "code",
   "execution_count": 21,
   "metadata": {},
   "outputs": [
    {
     "data": {
      "text/html": [
       "<div>\n",
       "<style scoped>\n",
       "    .dataframe tbody tr th:only-of-type {\n",
       "        vertical-align: middle;\n",
       "    }\n",
       "\n",
       "    .dataframe tbody tr th {\n",
       "        vertical-align: top;\n",
       "    }\n",
       "\n",
       "    .dataframe thead th {\n",
       "        text-align: right;\n",
       "    }\n",
       "</style>\n",
       "<table border=\"1\" class=\"dataframe\">\n",
       "  <thead>\n",
       "    <tr style=\"text-align: right;\">\n",
       "      <th></th>\n",
       "      <th>No_show</th>\n",
       "    </tr>\n",
       "  </thead>\n",
       "  <tbody>\n",
       "    <tr>\n",
       "      <th>No</th>\n",
       "      <td>85307</td>\n",
       "    </tr>\n",
       "    <tr>\n",
       "      <th>Yes</th>\n",
       "      <td>21680</td>\n",
       "    </tr>\n",
       "  </tbody>\n",
       "</table>\n",
       "</div>"
      ],
      "text/plain": [
       "     No_show\n",
       "No     85307\n",
       "Yes    21680"
      ]
     },
     "execution_count": 21,
     "metadata": {},
     "output_type": "execute_result"
    },
    {
     "data": {
      "image/png": "[encoded data removed]",
      "text/plain": [
       "<Figure size 432x288 with 1 Axes>"
      ]
     },
     "metadata": {},
     "output_type": "display_data"
    }
   ],
   "source": [
    "# visualization of Proportion of patient that show up for appointment\n",
    "#Defining function for plotting pie charts\n",
    "def pie_plot(value,labels):\n",
    "    pie=plt.pie(x=value,labels = labels, radius=1.1,autopct= '%1.2f%%')\n",
    "    rtf = pd.DataFrame(value)\n",
    "    return pie,rtf\n",
    "plt.title('Proportion of patients that show up for appointment')\n",
    "value=df['No_show'].value_counts()\n",
    "labels = ['No_Show', 'Show']\n",
    "pie, rtf= pie_plot(value,labels);\n",
    "rtf"
   ]
  },
  {
   "cell_type": "markdown",
   "metadata": {},
   "source": [
    "The dataset comprises of:<br>\n",
    "20.26% patient show up -21,680 patients <br>\n",
    "79.74% patient no show - 85,307 patients "
   ]
  },
  {
   "cell_type": "markdown",
   "metadata": {},
   "source": [
    "### Research Question 1 : How does the gender affect the appointment show up?"
   ]
  },
  {
   "cell_type": "markdown",
   "metadata": {},
   "source": [
    "#### How many females and males are there in the data set?"
   ]
  },
  {
   "cell_type": "code",
   "execution_count": 22,
   "metadata": {},
   "outputs": [
    {
     "data": {
      "text/html": [
       "<div>\n",
       "<style scoped>\n",
       "    .dataframe tbody tr th:only-of-type {\n",
       "        vertical-align: middle;\n",
       "    }\n",
       "\n",
       "    .dataframe tbody tr th {\n",
       "        vertical-align: top;\n",
       "    }\n",
       "\n",
       "    .dataframe thead th {\n",
       "        text-align: right;\n",
       "    }\n",
       "</style>\n",
       "<table border=\"1\" class=\"dataframe\">\n",
       "  <thead>\n",
       "    <tr style=\"text-align: right;\">\n",
       "      <th></th>\n",
       "      <th>Gender</th>\n",
       "    </tr>\n",
       "  </thead>\n",
       "  <tbody>\n",
       "    <tr>\n",
       "      <th>F</th>\n",
       "      <td>70118</td>\n",
       "    </tr>\n",
       "    <tr>\n",
       "      <th>M</th>\n",
       "      <td>36869</td>\n",
       "    </tr>\n",
       "  </tbody>\n",
       "</table>\n",
       "</div>"
      ],
      "text/plain": [
       "   Gender\n",
       "F   70118\n",
       "M   36869"
      ]
     },
     "execution_count": 22,
     "metadata": {},
     "output_type": "execute_result"
    },
    {
     "data": {
      "image/png": "[encoded data removed]",
      "text/plain": [
       "<Figure size 432x288 with 1 Axes>"
      ]
     },
     "metadata": {},
     "output_type": "display_data"
    }
   ],
   "source": [
    "# visualization of number of females and males are there in the data set\n",
    "plt.title('Proportion of Men and female that show up for appointment in relation to their numbers')\n",
    "labels = ['Female', 'Male']\n",
    "value=df['Gender'].value_counts()\n",
    "pie, rtf= pie_plot(value,labels);\n",
    "rtf"
   ]
  },
  {
   "cell_type": "markdown",
   "metadata": {},
   "source": [
    "The dataset comprises of:<br>\n",
    "70,118  females - 65.54% of the total number of patients<br>\n",
    "36,869 males - 34.46% of the total number of patients.\n"
   ]
  },
  {
   "cell_type": "markdown",
   "metadata": {},
   "source": [
    "**Comparison of male and female numbers**"
   ]
  },
  {
   "cell_type": "code",
   "execution_count": 23,
   "metadata": {},
   "outputs": [],
   "source": [
    "# Creating a function to find gender count\n",
    "def count_equation(data):\n",
    "    count=data.count()['Gender']\n",
    "    return count"
   ]
  },
  {
   "cell_type": "code",
   "execution_count": 24,
   "metadata": {},
   "outputs": [],
   "source": [
    "# defining female and male in the data\n",
    "female=df.query('Gender == \"F\"')\n",
    "male=df.query('Gender == \"M\"')"
   ]
  },
  {
   "cell_type": "code",
   "execution_count": 25,
   "metadata": {},
   "outputs": [
    {
     "data": {
      "text/plain": [
       "33249"
      ]
     },
     "execution_count": 25,
     "metadata": {},
     "output_type": "execute_result"
    }
   ],
   "source": [
    "# difference of male and female numbers\n",
    "count_equation(female)-count_equation(male)"
   ]
  },
  {
   "cell_type": "markdown",
   "metadata": {},
   "source": [
    "There are 33,249 more females than males thus, females tend to take more care of their health than males."
   ]
  },
  {
   "cell_type": "markdown",
   "metadata": {},
   "source": [
    "#### How many females and males in the data set in accordance to show up?"
   ]
  },
  {
   "cell_type": "code",
   "execution_count": 26,
   "metadata": {},
   "outputs": [],
   "source": [
    "# Defining of patient who show up and those that don't\n",
    "df_show=df.query('Numeric_show == 1')\n",
    "df_noshow=df.query('Numeric_show == 0')"
   ]
  },
  {
   "cell_type": "code",
   "execution_count": 27,
   "metadata": {},
   "outputs": [
    {
     "data": {
      "text/plain": [
       "True"
      ]
     },
     "execution_count": 27,
     "metadata": {},
     "output_type": "execute_result"
    }
   ],
   "source": [
    "# Ensuring the number of patient that show up and those that don't add-up to number of patients in the data. Should be True if correct.\n",
    "num_patients = df.shape[0]\n",
    "num_patients == count_equation(df_show) + count_equation(df_noshow)"
   ]
  },
  {
   "cell_type": "code",
   "execution_count": 28,
   "metadata": {},
   "outputs": [
    {
     "data": {
      "text/plain": [
       "Gender  No_show\n",
       "F       Yes        14275\n",
       "M       Yes         7405\n",
       "Name: No_show, dtype: int64"
      ]
     },
     "execution_count": 28,
     "metadata": {},
     "output_type": "execute_result"
    }
   ],
   "source": [
    "#Number of male and female that show up for appointment in relation of total show\n",
    "df_show.groupby('Gender')[\"No_show\"].value_counts()"
   ]
  },
  {
   "cell_type": "code",
   "execution_count": 29,
   "metadata": {},
   "outputs": [
    {
     "data": {
      "text/html": [
       "<div>\n",
       "<style scoped>\n",
       "    .dataframe tbody tr th:only-of-type {\n",
       "        vertical-align: middle;\n",
       "    }\n",
       "\n",
       "    .dataframe tbody tr th {\n",
       "        vertical-align: top;\n",
       "    }\n",
       "\n",
       "    .dataframe thead th {\n",
       "        text-align: right;\n",
       "    }\n",
       "</style>\n",
       "<table border=\"1\" class=\"dataframe\">\n",
       "  <thead>\n",
       "    <tr style=\"text-align: right;\">\n",
       "      <th></th>\n",
       "      <th>No_show</th>\n",
       "    </tr>\n",
       "    <tr>\n",
       "      <th>Gender</th>\n",
       "      <th></th>\n",
       "    </tr>\n",
       "  </thead>\n",
       "  <tbody>\n",
       "    <tr>\n",
       "      <th>F</th>\n",
       "      <td>14275</td>\n",
       "    </tr>\n",
       "    <tr>\n",
       "      <th>M</th>\n",
       "      <td>7405</td>\n",
       "    </tr>\n",
       "  </tbody>\n",
       "</table>\n",
       "</div>"
      ],
      "text/plain": [
       "        No_show\n",
       "Gender         \n",
       "F         14275\n",
       "M          7405"
      ]
     },
     "execution_count": 29,
     "metadata": {},
     "output_type": "execute_result"
    },
    {
     "data": {
      "image/png": "[encoded data removed]",
      "text/plain": [
       "<Figure size 432x288 with 2 Axes>"
      ]
     },
     "metadata": {
      "needs_background": "light"
     },
     "output_type": "display_data"
    }
   ],
   "source": [
    "# visualization of Number of male and female that show up for appointment in relation of total show\n",
    "#defing combine equation\n",
    "def combine_equation(data):\n",
    "    fig, (ax1, ax2)=plt.subplots(1,2)\n",
    "    x=('F','M')\n",
    "    ax1.set_ylabel('Number of patients');\n",
    "    ax1.set_xlabel('Gender');\n",
    "    ax1.set_title('Portion of male and female that show up for appointment in relation of total show')\n",
    "    labels = ['Female', 'Male']\n",
    "    combine=((ax1.bar(x,height=data.groupby('Gender')[\"No_show\"].count(), width=0.8)),(ax2.pie(data.groupby('Gender')[\"No_show\"].count(), labels = labels, radius=1.2, autopct= '%1.2f%%')))\n",
    "    rtf=pd.DataFrame(data.groupby('Gender')[\"No_show\"].count())\n",
    "    return combine, rtf\n",
    "data= df_show\n",
    "combine, rtf = combine_equation(data)\n",
    "rtf "
   ]
  },
  {
   "cell_type": "code",
   "execution_count": null,
   "metadata": {},
   "outputs": [],
   "source": []
  },
  {
   "cell_type": "markdown",
   "metadata": {},
   "source": [
    "Out of the 70,118 females, only 14,275 show up for the appointment which accounts to 65.84% of the total show.<br>\n",
    "Out of the 36,869 males, only 7,405 show up for the appointment which accounts to 34.16% of the total show."
   ]
  },
  {
   "cell_type": "markdown",
   "metadata": {},
   "source": [
    "**How many female and male don't show up for appointment?**"
   ]
  },
  {
   "cell_type": "code",
   "execution_count": 30,
   "metadata": {},
   "outputs": [
    {
     "data": {
      "text/plain": [
       "Gender  No_show\n",
       "F       No         55843\n",
       "M       No         29464\n",
       "Name: No_show, dtype: int64"
      ]
     },
     "execution_count": 30,
     "metadata": {},
     "output_type": "execute_result"
    }
   ],
   "source": [
    "#Number of male and female that no show for appointment in relation of total show\n",
    "df_noshow.groupby('Gender')[\"No_show\"].value_counts()"
   ]
  },
  {
   "cell_type": "code",
   "execution_count": 31,
   "metadata": {},
   "outputs": [
    {
     "data": {
      "text/html": [
       "<div>\n",
       "<style scoped>\n",
       "    .dataframe tbody tr th:only-of-type {\n",
       "        vertical-align: middle;\n",
       "    }\n",
       "\n",
       "    .dataframe tbody tr th {\n",
       "        vertical-align: top;\n",
       "    }\n",
       "\n",
       "    .dataframe thead th {\n",
       "        text-align: right;\n",
       "    }\n",
       "</style>\n",
       "<table border=\"1\" class=\"dataframe\">\n",
       "  <thead>\n",
       "    <tr style=\"text-align: right;\">\n",
       "      <th></th>\n",
       "      <th>No_show</th>\n",
       "    </tr>\n",
       "    <tr>\n",
       "      <th>Gender</th>\n",
       "      <th></th>\n",
       "    </tr>\n",
       "  </thead>\n",
       "  <tbody>\n",
       "    <tr>\n",
       "      <th>F</th>\n",
       "      <td>55843</td>\n",
       "    </tr>\n",
       "    <tr>\n",
       "      <th>M</th>\n",
       "      <td>29464</td>\n",
       "    </tr>\n",
       "  </tbody>\n",
       "</table>\n",
       "</div>"
      ],
      "text/plain": [
       "        No_show\n",
       "Gender         \n",
       "F         55843\n",
       "M         29464"
      ]
     },
     "execution_count": 31,
     "metadata": {},
     "output_type": "execute_result"
    },
    {
     "data": {
      "image/png": "[encoded data removed]",
      "text/plain": [
       "<Figure size 432x288 with 2 Axes>"
      ]
     },
     "metadata": {
      "needs_background": "light"
     },
     "output_type": "display_data"
    }
   ],
   "source": [
    "# visualization of Number of male and female that no show for appointment in relation of total show\n",
    "data= df_noshow\n",
    "combine, rtf = combine_equation(data)\n",
    "rtf "
   ]
  },
  {
   "cell_type": "markdown",
   "metadata": {},
   "source": [
    "Out of the 70,118 females, 55,843 don't show up for the appointment which accounts to 65.46% of the total no show.<br>\n",
    "Out of the 36,869 males, 29,464 don't show up for the appointment which accounts to 34.54% of the total no show."
   ]
  },
  {
   "cell_type": "markdown",
   "metadata": {},
   "source": [
    "**Female turn out for the appointment**"
   ]
  },
  {
   "cell_type": "code",
   "execution_count": 32,
   "metadata": {},
   "outputs": [
    {
     "data": {
      "text/plain": [
       "0    55843\n",
       "1    14275\n",
       "Name: Numeric_show, dtype: int64"
      ]
     },
     "execution_count": 32,
     "metadata": {},
     "output_type": "execute_result"
    }
   ],
   "source": [
    "# Exploring how many female show up and those that don't show up for appointment\n",
    "female[\"Numeric_show\"].value_counts()"
   ]
  },
  {
   "cell_type": "code",
   "execution_count": 33,
   "metadata": {},
   "outputs": [
    {
     "data": {
      "text/plain": [
       "True"
      ]
     },
     "execution_count": 33,
     "metadata": {},
     "output_type": "execute_result"
    }
   ],
   "source": [
    "# Ensuring the number of female that show up and female that didn't show up add-up to number of females in the data\n",
    "count_equation(female) == female[\"Numeric_show\"].count()"
   ]
  },
  {
   "cell_type": "code",
   "execution_count": 34,
   "metadata": {
    "scrolled": false
   },
   "outputs": [
    {
     "data": {
      "text/html": [
       "<div>\n",
       "<style scoped>\n",
       "    .dataframe tbody tr th:only-of-type {\n",
       "        vertical-align: middle;\n",
       "    }\n",
       "\n",
       "    .dataframe tbody tr th {\n",
       "        vertical-align: top;\n",
       "    }\n",
       "\n",
       "    .dataframe thead th {\n",
       "        text-align: right;\n",
       "    }\n",
       "</style>\n",
       "<table border=\"1\" class=\"dataframe\">\n",
       "  <thead>\n",
       "    <tr style=\"text-align: right;\">\n",
       "      <th></th>\n",
       "      <th>Numeric_show</th>\n",
       "    </tr>\n",
       "  </thead>\n",
       "  <tbody>\n",
       "    <tr>\n",
       "      <th>0</th>\n",
       "      <td>55843</td>\n",
       "    </tr>\n",
       "    <tr>\n",
       "      <th>1</th>\n",
       "      <td>14275</td>\n",
       "    </tr>\n",
       "  </tbody>\n",
       "</table>\n",
       "</div>"
      ],
      "text/plain": [
       "   Numeric_show\n",
       "0         55843\n",
       "1         14275"
      ]
     },
     "execution_count": 34,
     "metadata": {},
     "output_type": "execute_result"
    },
    {
     "data": {
      "image/png": "[encoded data removed]",
      "text/plain": [
       "<Figure size 432x288 with 1 Axes>"
      ]
     },
     "metadata": {},
     "output_type": "display_data"
    }
   ],
   "source": [
    "# visualization of Proportion of female that show up for appointment\n",
    "plt.title('Proportion of female that show up for appointment');\n",
    "value = female[\"Numeric_show\"].value_counts()\n",
    "labels = ['No Show', 'Show']\n",
    "pie, rtf= pie_plot(value,labels);\n",
    "rtf"
   ]
  },
  {
   "cell_type": "markdown",
   "metadata": {},
   "source": [
    "**Exploring the data for the females that show up**<br>\n",
    "From the data, 14,275 female showed for their appointment which account to approximately 20.36%, while 55,843 didn't show up for the appointment which account to approximately 79.64% out of 70,118 females."
   ]
  },
  {
   "cell_type": "markdown",
   "metadata": {},
   "source": [
    "**Male turn out for the appointment**"
   ]
  },
  {
   "cell_type": "code",
   "execution_count": 35,
   "metadata": {},
   "outputs": [
    {
     "data": {
      "text/plain": [
       "0    29464\n",
       "1     7405\n",
       "Name: Numeric_show, dtype: int64"
      ]
     },
     "execution_count": 35,
     "metadata": {},
     "output_type": "execute_result"
    }
   ],
   "source": [
    "# Exploring the number of male that show up for appointment and those that didn't show up for appointment\n",
    "male[\"Numeric_show\"].value_counts()\n"
   ]
  },
  {
   "cell_type": "code",
   "execution_count": 36,
   "metadata": {},
   "outputs": [
    {
     "data": {
      "text/plain": [
       "True"
      ]
     },
     "execution_count": 36,
     "metadata": {},
     "output_type": "execute_result"
    }
   ],
   "source": [
    "# Ensuring the number of male that show up and male that didn't show up add-up to number of males in the data\n",
    "count_equation(male)  == male[\"Numeric_show\"].count()"
   ]
  },
  {
   "cell_type": "code",
   "execution_count": 37,
   "metadata": {},
   "outputs": [
    {
     "data": {
      "text/html": [
       "<div>\n",
       "<style scoped>\n",
       "    .dataframe tbody tr th:only-of-type {\n",
       "        vertical-align: middle;\n",
       "    }\n",
       "\n",
       "    .dataframe tbody tr th {\n",
       "        vertical-align: top;\n",
       "    }\n",
       "\n",
       "    .dataframe thead th {\n",
       "        text-align: right;\n",
       "    }\n",
       "</style>\n",
       "<table border=\"1\" class=\"dataframe\">\n",
       "  <thead>\n",
       "    <tr style=\"text-align: right;\">\n",
       "      <th></th>\n",
       "      <th>Numeric_show</th>\n",
       "    </tr>\n",
       "  </thead>\n",
       "  <tbody>\n",
       "    <tr>\n",
       "      <th>0</th>\n",
       "      <td>29464</td>\n",
       "    </tr>\n",
       "    <tr>\n",
       "      <th>1</th>\n",
       "      <td>7405</td>\n",
       "    </tr>\n",
       "  </tbody>\n",
       "</table>\n",
       "</div>"
      ],
      "text/plain": [
       "   Numeric_show\n",
       "0         29464\n",
       "1          7405"
      ]
     },
     "execution_count": 37,
     "metadata": {},
     "output_type": "execute_result"
    },
    {
     "data": {
      "image/png": "[encoded data removed]",
      "text/plain": [
       "<Figure size 432x288 with 1 Axes>"
      ]
     },
     "metadata": {},
     "output_type": "display_data"
    }
   ],
   "source": [
    "# visualization of Proportion of male that show up for appointment\n",
    "value = male[\"Numeric_show\"].value_counts()\n",
    "labels = ['No Show', 'Show']\n",
    "plt.title('Proportion of male that show up for appointment');\n",
    "pie, rtf= pie_plot(value,labels);\n",
    "rtf"
   ]
  },
  {
   "cell_type": "markdown",
   "metadata": {},
   "source": [
    "**Exploring the data for the males that show up**<br>\n",
    "From the data, 7,405 male showed for their appointment which account to approximately 20.08%, while 29,464 didn't show up for the appointment which account to approximately 79.92% out of 36,869 females."
   ]
  },
  {
   "cell_type": "markdown",
   "metadata": {},
   "source": [
    "#### How many women show up/ no show for their appointment more than men in comparison to their total numbers of show?"
   ]
  },
  {
   "cell_type": "code",
   "execution_count": 38,
   "metadata": {},
   "outputs": [
    {
     "data": {
      "text/plain": [
       "0    26379\n",
       "1     6870\n",
       "Name: Numeric_show, dtype: int64"
      ]
     },
     "execution_count": 38,
     "metadata": {},
     "output_type": "execute_result"
    }
   ],
   "source": [
    "#Difference between male and female show up\n",
    "(female[\"Numeric_show\"].value_counts())-(male[\"Numeric_show\"].value_counts())"
   ]
  },
  {
   "cell_type": "code",
   "execution_count": 39,
   "metadata": {},
   "outputs": [
    {
     "data": {
      "text/plain": [
       "0    True\n",
       "1    True\n",
       "Name: Numeric_show, dtype: bool"
      ]
     },
     "execution_count": 39,
     "metadata": {},
     "output_type": "execute_result"
    }
   ],
   "source": [
    "# Ensuring the number of female that show up and male that show up add-up to number of patient that show up in the data\n",
    "(df[\"Numeric_show\"].value_counts()) == (female[\"Numeric_show\"].value_counts())+(male[\"Numeric_show\"].value_counts())"
   ]
  },
  {
   "cell_type": "markdown",
   "metadata": {},
   "source": [
    "From the data,there are 6,870 more females than males that show up for appointment and 26,379 more females than males that don't show up for appointment."
   ]
  },
  {
   "cell_type": "markdown",
   "metadata": {},
   "source": [
    "**Comparison of female show mean and male show in contrast to the mean**"
   ]
  },
  {
   "cell_type": "code",
   "execution_count": 40,
   "metadata": {},
   "outputs": [
    {
     "data": {
      "text/plain": [
       "0.20084623938810384"
      ]
     },
     "execution_count": 40,
     "metadata": {},
     "output_type": "execute_result"
    }
   ],
   "source": [
    "#mean for male that show for appointment.\n",
    "male_mean=male[\"Numeric_show\"].mean()\n",
    "male_mean"
   ]
  },
  {
   "cell_type": "code",
   "execution_count": 41,
   "metadata": {},
   "outputs": [
    {
     "data": {
      "text/plain": [
       "0.20358538463732564"
      ]
     },
     "execution_count": 41,
     "metadata": {},
     "output_type": "execute_result"
    }
   ],
   "source": [
    "#mean for female that show for appointment.\n",
    "female_mean=female[\"Numeric_show\"].mean()\n",
    "female_mean"
   ]
  },
  {
   "cell_type": "code",
   "execution_count": 42,
   "metadata": {},
   "outputs": [
    {
     "data": {
      "text/plain": [
       "True"
      ]
     },
     "execution_count": 42,
     "metadata": {},
     "output_type": "execute_result"
    }
   ],
   "source": [
    "#comparison of the Men and female that show up for appointment according to show up proportion.\n",
    "female_mean > male_mean"
   ]
  },
  {
   "cell_type": "code",
   "execution_count": 43,
   "metadata": {},
   "outputs": [
    {
     "data": {
      "text/plain": [
       "0.0027391452492218082"
      ]
     },
     "execution_count": 43,
     "metadata": {},
     "output_type": "execute_result"
    }
   ],
   "source": [
    "#Comparison of the Men and female that show up for appointment according to show patient proportion.\n",
    "female_mean - male_mean"
   ]
  },
  {
   "cell_type": "code",
   "execution_count": 44,
   "metadata": {},
   "outputs": [
    {
     "data": {
      "text/plain": [
       "59"
      ]
     },
     "execution_count": 44,
     "metadata": {},
     "output_type": "execute_result"
    }
   ],
   "source": [
    "round((female_mean - male_mean)*count_equation(df_show))"
   ]
  },
  {
   "cell_type": "code",
   "execution_count": 45,
   "metadata": {},
   "outputs": [
    {
     "data": {
      "image/png": "[encoded data removed]",
      "text/plain": [
       "<Figure size 432x288 with 1 Axes>"
      ]
     },
     "metadata": {
      "needs_background": "light"
     },
     "output_type": "display_data"
    }
   ],
   "source": [
    "height = [female_mean, male_mean]\n",
    "x=('F','M')\n",
    "color = (\"blue\",\"green\")\n",
    "plt.bar(x,height=height, edgecolor='black', color=color, alpha=.7 );\n",
    "plt.title('Proportion of Men and female that show up for appointment in relation to the mean', fontsize=12);\n",
    "mean_bar=plt.ylabel('Mean for the patient', fontsize=9)\n",
    "plt.xlabel('Gender', fontsize=9);"
   ]
  },
  {
   "cell_type": "markdown",
   "metadata": {},
   "source": [
    "In relation to the mean, there are approximately 0.003 (59) more female show up more than male in contrast to the total number of show."
   ]
  },
  {
   "cell_type": "markdown",
   "metadata": {},
   "source": [
    "### Research Question 2: Are the patients on scholarship still adhearing to the appointment dates?"
   ]
  },
  {
   "cell_type": "code",
   "execution_count": 46,
   "metadata": {},
   "outputs": [
    {
     "data": {
      "text/html": [
       "<div>\n",
       "<style scoped>\n",
       "    .dataframe tbody tr th:only-of-type {\n",
       "        vertical-align: middle;\n",
       "    }\n",
       "\n",
       "    .dataframe tbody tr th {\n",
       "        vertical-align: top;\n",
       "    }\n",
       "\n",
       "    .dataframe thead th {\n",
       "        text-align: right;\n",
       "    }\n",
       "</style>\n",
       "<table border=\"1\" class=\"dataframe\">\n",
       "  <thead>\n",
       "    <tr style=\"text-align: right;\">\n",
       "      <th></th>\n",
       "      <th>Scholarship</th>\n",
       "    </tr>\n",
       "  </thead>\n",
       "  <tbody>\n",
       "    <tr>\n",
       "      <th>0</th>\n",
       "      <td>96178</td>\n",
       "    </tr>\n",
       "    <tr>\n",
       "      <th>1</th>\n",
       "      <td>10809</td>\n",
       "    </tr>\n",
       "  </tbody>\n",
       "</table>\n",
       "</div>"
      ],
      "text/plain": [
       "   Scholarship\n",
       "0        96178\n",
       "1        10809"
      ]
     },
     "execution_count": 46,
     "metadata": {},
     "output_type": "execute_result"
    },
    {
     "data": {
      "image/png": "[encoded data removed]",
      "text/plain": [
       "<Figure size 432x288 with 1 Axes>"
      ]
     },
     "metadata": {},
     "output_type": "display_data"
    }
   ],
   "source": [
    "# Visualization Number of patients with scholarship\n",
    "labels = ['No_Scholarship', 'With_Scholarship']\n",
    "value=df['Scholarship'].value_counts()\n",
    "plt.title('Portion of patients with scholarship')\n",
    "pie, rtf= pie_plot(value,labels);\n",
    "rtf"
   ]
  },
  {
   "cell_type": "markdown",
   "metadata": {},
   "source": [
    "There are 10,809 (89.90%) patients with scholarships and 96,178 (10.10%) patients without scholarships."
   ]
  },
  {
   "cell_type": "code",
   "execution_count": 47,
   "metadata": {},
   "outputs": [],
   "source": [
    "#Description of the data on Scholarship\n",
    "With_Scholarship = df.Scholarship ==True\n",
    "No_Scholarship = df.Scholarship == False"
   ]
  },
  {
   "cell_type": "code",
   "execution_count": 48,
   "metadata": {},
   "outputs": [
    {
     "name": "stderr",
     "output_type": "stream",
     "text": [
      "<ipython-input-48-8fcabbe4a87d>:2: UserWarning: Boolean Series key will be reindexed to match DataFrame index.\n",
      "  Scholarship_show=df_show[With_Scholarship].count().Scholarship\n"
     ]
    }
   ],
   "source": [
    "#Patient with scholarship that show up for the appointment\n",
    "Scholarship_show=df_show[With_Scholarship].count().Scholarship"
   ]
  },
  {
   "cell_type": "code",
   "execution_count": 49,
   "metadata": {},
   "outputs": [
    {
     "name": "stderr",
     "output_type": "stream",
     "text": [
      "<ipython-input-49-79ba69ae4196>:2: UserWarning: Boolean Series key will be reindexed to match DataFrame index.\n",
      "  Scholarship_noshow=df_noshow[With_Scholarship].count().Scholarship\n"
     ]
    }
   ],
   "source": [
    "#Patient with scholarship that don't show up for the appointment\n",
    "Scholarship_noshow=df_noshow[With_Scholarship].count().Scholarship"
   ]
  },
  {
   "cell_type": "code",
   "execution_count": 50,
   "metadata": {
    "scrolled": true
   },
   "outputs": [
    {
     "data": {
      "text/html": [
       "<div>\n",
       "<style scoped>\n",
       "    .dataframe tbody tr th:only-of-type {\n",
       "        vertical-align: middle;\n",
       "    }\n",
       "\n",
       "    .dataframe tbody tr th {\n",
       "        vertical-align: top;\n",
       "    }\n",
       "\n",
       "    .dataframe thead th {\n",
       "        text-align: right;\n",
       "    }\n",
       "</style>\n",
       "<table border=\"1\" class=\"dataframe\">\n",
       "  <thead>\n",
       "    <tr style=\"text-align: right;\">\n",
       "      <th></th>\n",
       "      <th>0</th>\n",
       "    </tr>\n",
       "  </thead>\n",
       "  <tbody>\n",
       "    <tr>\n",
       "      <th>0</th>\n",
       "      <td>2571</td>\n",
       "    </tr>\n",
       "    <tr>\n",
       "      <th>1</th>\n",
       "      <td>8238</td>\n",
       "    </tr>\n",
       "  </tbody>\n",
       "</table>\n",
       "</div>"
      ],
      "text/plain": [
       "      0\n",
       "0  2571\n",
       "1  8238"
      ]
     },
     "execution_count": 50,
     "metadata": {},
     "output_type": "execute_result"
    },
    {
     "data": {
      "image/png": "[encoded data removed]",
      "text/plain": [
       "<Figure size 432x288 with 1 Axes>"
      ]
     },
     "metadata": {},
     "output_type": "display_data"
    }
   ],
   "source": [
    "#Visualization of the patients on scholarship adhearing to the appointment dates\n",
    "value = [Scholarship_show, Scholarship_noshow]\n",
    "labels = ['Show', 'No_show']\n",
    "plt.title('Proportion of Scholarship patients that show up for appointment')\n",
    "pie, rtf= pie_plot(value,labels);\n",
    "rtf"
   ]
  },
  {
   "cell_type": "markdown",
   "metadata": {},
   "source": [
    "23.79% (2,571) students with scholarship show up for appointment will 76.21% (8,238) of the students with scholarship Don's show up."
   ]
  },
  {
   "cell_type": "markdown",
   "metadata": {},
   "source": [
    "**Comparison of patient with Scholarship and those without turnout for appointment**"
   ]
  },
  {
   "cell_type": "code",
   "execution_count": 51,
   "metadata": {},
   "outputs": [
    {
     "data": {
      "text/plain": [
       "Numeric_show\n",
       "0    77069\n",
       "1    19109\n",
       "Name: Scholarship, dtype: int64"
      ]
     },
     "execution_count": 51,
     "metadata": {},
     "output_type": "execute_result"
    }
   ],
   "source": [
    "#Patient with no scholarship turn up for the appointment\n",
    "no_scholarship=df[No_Scholarship].groupby('Numeric_show')['Scholarship'].count()\n",
    "no_scholarship"
   ]
  },
  {
   "cell_type": "code",
   "execution_count": 52,
   "metadata": {},
   "outputs": [
    {
     "data": {
      "text/plain": [
       "Numeric_show\n",
       "0    0.801316\n",
       "1    0.198684\n",
       "Name: Scholarship, dtype: float64"
      ]
     },
     "execution_count": 52,
     "metadata": {},
     "output_type": "execute_result"
    }
   ],
   "source": [
    "no_scholarship/df[No_Scholarship].count().Scholarship"
   ]
  },
  {
   "cell_type": "markdown",
   "metadata": {},
   "source": [
    "19,109 patients with no scholarship show up for appointment(19.86%) while 77,069 of the patients with no scholarship Don't show up out of the 96,178 patients(80.13%)."
   ]
  },
  {
   "cell_type": "code",
   "execution_count": 53,
   "metadata": {},
   "outputs": [
    {
     "data": {
      "text/plain": [
       "Numeric_show\n",
       "0    8238\n",
       "1    2571\n",
       "Name: Scholarship, dtype: int64"
      ]
     },
     "execution_count": 53,
     "metadata": {},
     "output_type": "execute_result"
    }
   ],
   "source": [
    "#Patient with  scholarship turn up for the appointment\n",
    "scholarship=df[With_Scholarship].groupby('Numeric_show')['Scholarship'].count()\n",
    "scholarship"
   ]
  },
  {
   "cell_type": "code",
   "execution_count": 54,
   "metadata": {},
   "outputs": [
    {
     "data": {
      "image/png": "[encoded data removed]",
      "text/plain": [
       "<Figure size 432x288 with 1 Axes>"
      ]
     },
     "metadata": {
      "needs_background": "light"
     },
     "output_type": "display_data"
    }
   ],
   "source": [
    "#Visualization of patient with Scholarship and those without turnout for appointment\n",
    "subject=['Numeric_show','Scholarship']\n",
    "index=np.arange(len(subject))\n",
    "bar_width=0.35\n",
    "fig, ax=plt.subplots()\n",
    "\n",
    "ax.bar(index-bar_width/2, no_scholarship, label=\"No_Scholarship\")\n",
    "ax.bar(index-bar_width/2, scholarship, label=\"Scholarship\")\n",
    "\n",
    "#insert x axis label\n",
    "label= ['No_Scholarship','Scholarship']\n",
    "ax.set_xticks(index)\n",
    "ax.set_xticklabels(label)\n",
    "\n",
    "#insert y axis label\n",
    "ax.set_ylabel(\"Number of patients\")\n",
    "\n",
    "#insert title label\n",
    "ax.set_title(\"Comparison of patients with Scholarship and those without turnout\")\n",
    "\n",
    "#insert legend\n",
    "labels= ['No_Show','Show']\n",
    "ax.legend(labels);"
   ]
  },
  {
   "cell_type": "code",
   "execution_count": 55,
   "metadata": {},
   "outputs": [],
   "source": [
    "#Mean for the patient with Scholarship and those without turnout for appointment\n",
    "scholarship_mean=df[With_Scholarship].mean().Numeric_show\n",
    "noscholarship_mean=df[No_Scholarship].mean().Numeric_show"
   ]
  },
  {
   "cell_type": "code",
   "execution_count": 56,
   "metadata": {},
   "outputs": [
    {
     "data": {
      "image/png": "[encoded data removed]",
      "text/plain": [
       "<Figure size 432x288 with 1 Axes>"
      ]
     },
     "metadata": {
      "needs_background": "light"
     },
     "output_type": "display_data"
    }
   ],
   "source": [
    "#Visualization of patient with Scholarship and those without turnout for appointment\n",
    "patients=np.arange(0,0.35,0.05)\n",
    "height = [scholarship_mean, noscholarship_mean]\n",
    "x=('scholarship','noscholarship')\n",
    "y=[round(scholarship_mean,3), round(noscholarship_mean,3)]\n",
    "color = (\"blue\",\"green\")\n",
    "plt.bar(x,height=height, edgecolor='black', color=color, alpha=.7 );\n",
    "plt.yticks(patients)\n",
    "plt.title('Portion of patient that show up for appointment with scholarship and noscholarship');\n",
    "\n",
    "for i in range(len(x)):\n",
    "    plt.text(i, y[i], y[i], ha='center', va='bottom')"
   ]
  },
  {
   "cell_type": "markdown",
   "metadata": {},
   "source": [
    "Patients with Scholarship show up for appointment more than those without scholarship; 0.238 show up for Patients with Scholarship and 0.199 show up for Patients without Scholarship."
   ]
  },
  {
   "cell_type": "markdown",
   "metadata": {},
   "source": [
    "### Research Question 3: Do age have a relation with the patient show up for the appointment?"
   ]
  },
  {
   "cell_type": "code",
   "execution_count": 57,
   "metadata": {},
   "outputs": [
    {
     "data": {
      "text/plain": [
       "count    106987.000000\n",
       "mean         38.316085\n",
       "std          22.466214\n",
       "min           1.000000\n",
       "25%          19.000000\n",
       "50%          38.000000\n",
       "75%          56.000000\n",
       "max         115.000000\n",
       "Name: Age, dtype: float64"
      ]
     },
     "execution_count": 57,
     "metadata": {},
     "output_type": "execute_result"
    }
   ],
   "source": [
    "# View the 0, 25%, 50%, 75%, max Age values using Pandas describe\n",
    "df.describe().Age"
   ]
  },
  {
   "cell_type": "code",
   "execution_count": 58,
   "metadata": {},
   "outputs": [
    {
     "data": {
      "image/png": "[encoded data removed]",
      "text/plain": [
       "<Figure size 432x288 with 1 Axes>"
      ]
     },
     "metadata": {
      "needs_background": "light"
     },
     "output_type": "display_data"
    }
   ],
   "source": [
    "#Visualization of the patients on scholarship adhearing to the appointment dates\n",
    "plt.title('Patients on scholarship adhearing to the appointment dates ')\n",
    "plt.ylabel('Number of patients');\n",
    "plt.xlabel('Age of patients');\n",
    "\n",
    "def hist_equation(data):\n",
    "    hist=data.hist()\n",
    "    rtf=pd.DataFrame(data)\n",
    "    return rtf, hist\n",
    "data = df.Age\n",
    "hist, rtf = hist_equation(data)\n",
    "rtf;"
   ]
  },
  {
   "cell_type": "code",
   "execution_count": 60,
   "metadata": {},
   "outputs": [],
   "source": [
    "#Ages of those in scholarship \n",
    "# Bin edges that will be used to \"cut\" the data into groups\n",
    "bin_edges = [0.00, 17.0, 35.0, 60.0, 115.0]"
   ]
  },
  {
   "cell_type": "code",
   "execution_count": 61,
   "metadata": {},
   "outputs": [],
   "source": [
    "# Labels for the four Age groups level\n",
    "bin_names = ['Underage', 'Teen', 'Adult', 'Old']"
   ]
  },
  {
   "cell_type": "code",
   "execution_count": 62,
   "metadata": {
    "scrolled": true
   },
   "outputs": [
    {
     "data": {
      "text/html": [
       "<div>\n",
       "<style scoped>\n",
       "    .dataframe tbody tr th:only-of-type {\n",
       "        vertical-align: middle;\n",
       "    }\n",
       "\n",
       "    .dataframe tbody tr th {\n",
       "        vertical-align: top;\n",
       "    }\n",
       "\n",
       "    .dataframe thead th {\n",
       "        text-align: right;\n",
       "    }\n",
       "</style>\n",
       "<table border=\"1\" class=\"dataframe\">\n",
       "  <thead>\n",
       "    <tr style=\"text-align: right;\">\n",
       "      <th></th>\n",
       "      <th>Gender</th>\n",
       "      <th>Age</th>\n",
       "      <th>Scholarship</th>\n",
       "      <th>No_show</th>\n",
       "      <th>Numeric_show</th>\n",
       "      <th>Age_groups</th>\n",
       "    </tr>\n",
       "  </thead>\n",
       "  <tbody>\n",
       "    <tr>\n",
       "      <th>0</th>\n",
       "      <td>F</td>\n",
       "      <td>62</td>\n",
       "      <td>0</td>\n",
       "      <td>No</td>\n",
       "      <td>0</td>\n",
       "      <td>Old</td>\n",
       "    </tr>\n",
       "    <tr>\n",
       "      <th>1</th>\n",
       "      <td>M</td>\n",
       "      <td>56</td>\n",
       "      <td>0</td>\n",
       "      <td>No</td>\n",
       "      <td>0</td>\n",
       "      <td>Adult</td>\n",
       "    </tr>\n",
       "    <tr>\n",
       "      <th>2</th>\n",
       "      <td>F</td>\n",
       "      <td>62</td>\n",
       "      <td>0</td>\n",
       "      <td>No</td>\n",
       "      <td>0</td>\n",
       "      <td>Old</td>\n",
       "    </tr>\n",
       "    <tr>\n",
       "      <th>3</th>\n",
       "      <td>F</td>\n",
       "      <td>8</td>\n",
       "      <td>0</td>\n",
       "      <td>No</td>\n",
       "      <td>0</td>\n",
       "      <td>Underage</td>\n",
       "    </tr>\n",
       "    <tr>\n",
       "      <th>4</th>\n",
       "      <td>F</td>\n",
       "      <td>56</td>\n",
       "      <td>0</td>\n",
       "      <td>No</td>\n",
       "      <td>0</td>\n",
       "      <td>Adult</td>\n",
       "    </tr>\n",
       "  </tbody>\n",
       "</table>\n",
       "</div>"
      ],
      "text/plain": [
       "  Gender  Age  Scholarship No_show  Numeric_show Age_groups\n",
       "0      F   62            0      No             0        Old\n",
       "1      M   56            0      No             0      Adult\n",
       "2      F   62            0      No             0        Old\n",
       "3      F    8            0      No             0   Underage\n",
       "4      F   56            0      No             0      Adult"
      ]
     },
     "execution_count": 62,
     "metadata": {},
     "output_type": "execute_result"
    }
   ],
   "source": [
    "# Creates Ages groups level column\n",
    "df['Age_groups'] = pd.cut(df['Age'], bin_edges, labels=bin_names, right=True)\n",
    "\n",
    "# Checks for successful creation of this column\n",
    "df.head(5)\n"
   ]
  },
  {
   "cell_type": "code",
   "execution_count": 63,
   "metadata": {},
   "outputs": [
    {
     "name": "stdout",
     "output_type": "stream",
     "text": [
      "<class 'pandas.core.frame.DataFrame'>\n",
      "Int64Index: 106987 entries, 0 to 110526\n",
      "Data columns (total 6 columns):\n",
      " #   Column        Non-Null Count   Dtype   \n",
      "---  ------        --------------   -----   \n",
      " 0   Gender        106987 non-null  object  \n",
      " 1   Age           106987 non-null  int64   \n",
      " 2   Scholarship   106987 non-null  int64   \n",
      " 3   No_show       106987 non-null  object  \n",
      " 4   Numeric_show  106987 non-null  int32   \n",
      " 5   Age_groups    106987 non-null  category\n",
      "dtypes: category(1), int32(1), int64(2), object(2)\n",
      "memory usage: 8.6+ MB\n"
     ]
    }
   ],
   "source": [
    "#Checking the data after creating the Age_groups column\n",
    "df.info()"
   ]
  },
  {
   "cell_type": "code",
   "execution_count": 64,
   "metadata": {},
   "outputs": [
    {
     "data": {
      "text/plain": [
       "['Old', 'Adult', 'Underage', 'Teen']\n",
       "Categories (4, object): ['Underage' < 'Teen' < 'Adult' < 'Old']"
      ]
     },
     "execution_count": 64,
     "metadata": {},
     "output_type": "execute_result"
    }
   ],
   "source": [
    "df.Age_groups.unique()"
   ]
  },
  {
   "cell_type": "code",
   "execution_count": 65,
   "metadata": {},
   "outputs": [
    {
     "data": {
      "text/plain": [
       "Adult       37761\n",
       "Teen        25624\n",
       "Underage    23840\n",
       "Old         19762\n",
       "Name: Age_groups, dtype: int64"
      ]
     },
     "execution_count": 65,
     "metadata": {},
     "output_type": "execute_result"
    }
   ],
   "source": [
    "Ages=df.Age_groups.value_counts()\n",
    "Ages"
   ]
  },
  {
   "cell_type": "code",
   "execution_count": 66,
   "metadata": {},
   "outputs": [
    {
     "data": {
      "text/plain": [
       "Adult       0.352949\n",
       "Teen        0.239506\n",
       "Underage    0.222831\n",
       "Old         0.184714\n",
       "Name: Age_groups, dtype: float64"
      ]
     },
     "execution_count": 66,
     "metadata": {},
     "output_type": "execute_result"
    }
   ],
   "source": [
    "Ages/df.Age.count()"
   ]
  },
  {
   "cell_type": "code",
   "execution_count": 67,
   "metadata": {
    "scrolled": true
   },
   "outputs": [
    {
     "data": {
      "image/png": "[encoded data removed]",
      "text/plain": [
       "<Figure size 432x288 with 1 Axes>"
      ]
     },
     "metadata": {
      "needs_background": "light"
     },
     "output_type": "display_data"
    }
   ],
   "source": [
    "#Visualization of Age_groups data\n",
    "plt.title('Relationship between age and patient')\n",
    "plt.ylabel('Number of patients');\n",
    "plt.xlabel('Groups of patients');\n",
    "data = df.Age_groups\n",
    "hist, rtf = hist_equation(data)\n",
    "rtf;"
   ]
  },
  {
   "cell_type": "markdown",
   "metadata": {},
   "source": [
    "Most of the patients are in their adult age (37,761).<br>\n",
    "The Underage (23,840) and teen (25,624) typically makes appointments while the old make appointments the least (19,762).<br>\n",
    "#### Whats the relation of patient show up with the age?\n"
   ]
  },
  {
   "cell_type": "code",
   "execution_count": 68,
   "metadata": {},
   "outputs": [
    {
     "data": {
      "text/plain": [
       "Underage    0.224748\n",
       "Teen        0.238175\n",
       "Adult       0.191017\n",
       "Old         0.152110\n",
       "dtype: float64"
      ]
     },
     "execution_count": 68,
     "metadata": {},
     "output_type": "execute_result"
    }
   ],
   "source": [
    "# Relation of age with appointment showing up\n",
    "df_show=df.query('Numeric_show == 1')\n",
    "df_show_age=df_show.groupby('Age_groups')['Numeric_show'].count()\n",
    "df_show_age/Ages.sort_values()"
   ]
  },
  {
   "cell_type": "code",
   "execution_count": 69,
   "metadata": {},
   "outputs": [
    {
     "data": {
      "text/html": [
       "<div>\n",
       "<style scoped>\n",
       "    .dataframe tbody tr th:only-of-type {\n",
       "        vertical-align: middle;\n",
       "    }\n",
       "\n",
       "    .dataframe tbody tr th {\n",
       "        vertical-align: top;\n",
       "    }\n",
       "\n",
       "    .dataframe thead th {\n",
       "        text-align: right;\n",
       "    }\n",
       "</style>\n",
       "<table border=\"1\" class=\"dataframe\">\n",
       "  <thead>\n",
       "    <tr style=\"text-align: right;\">\n",
       "      <th></th>\n",
       "      <th>Numeric_show</th>\n",
       "    </tr>\n",
       "    <tr>\n",
       "      <th>Age_groups</th>\n",
       "      <th></th>\n",
       "    </tr>\n",
       "  </thead>\n",
       "  <tbody>\n",
       "    <tr>\n",
       "      <th>Old</th>\n",
       "      <td>3006</td>\n",
       "    </tr>\n",
       "    <tr>\n",
       "      <th>Underage</th>\n",
       "      <td>5358</td>\n",
       "    </tr>\n",
       "    <tr>\n",
       "      <th>Teen</th>\n",
       "      <td>6103</td>\n",
       "    </tr>\n",
       "    <tr>\n",
       "      <th>Adult</th>\n",
       "      <td>7213</td>\n",
       "    </tr>\n",
       "  </tbody>\n",
       "</table>\n",
       "</div>"
      ],
      "text/plain": [
       "            Numeric_show\n",
       "Age_groups              \n",
       "Old                 3006\n",
       "Underage            5358\n",
       "Teen                6103\n",
       "Adult               7213"
      ]
     },
     "execution_count": 69,
     "metadata": {},
     "output_type": "execute_result"
    },
    {
     "data": {
      "image/png": "[encoded data removed]",
      "text/plain": [
       "<Figure size 432x288 with 1 Axes>"
      ]
     },
     "metadata": {
      "needs_background": "light"
     },
     "output_type": "display_data"
    }
   ],
   "source": [
    "# visualization of Relation of age with appointment showing up\n",
    "def bar_equation(data):\n",
    "    bar=data.plot(kind=\"bar\")\n",
    "    rtf=pd.DataFrame(data)\n",
    "    return bar, rtf\n",
    "plt.title('Relationship between age with appointment showing up')\n",
    "plt.ylabel('Number of patients')\n",
    "data = df_show_age.sort_values()\n",
    "bar, rtf =bar_equation(data);\n",
    "rtf\n",
    "\n"
   ]
  },
  {
   "cell_type": "code",
   "execution_count": 70,
   "metadata": {},
   "outputs": [
    {
     "data": {
      "text/plain": [
       "Underage    0.224748\n",
       "Teen        0.238175\n",
       "Adult       0.191017\n",
       "Old         0.152110\n",
       "dtype: float64"
      ]
     },
     "execution_count": 70,
     "metadata": {},
     "output_type": "execute_result"
    }
   ],
   "source": [
    "#Fraction of teen that show up in comparison to the total number\n",
    "df_show_age/Ages"
   ]
  },
  {
   "cell_type": "markdown",
   "metadata": {},
   "source": [
    "Approximately 0.24 of the teen show up for the appoimoment out of 25,624 teens.<br>\n",
    "Approximately 0.22 of the Young show up for the appoimoment out of 23,840.<br>\n",
    "Approximately 0.15 of the Old show up for the appoimoment out of 19,762.<br>\n",
    "Approximately 0.19 of the Adult show up for the appoimoment out of 37,761."
   ]
  },
  {
   "cell_type": "markdown",
   "metadata": {},
   "source": [
    "**What is the Number of female that turnout in accordance to age group?**<br>\n",
    "Number of female in accordance to age group"
   ]
  },
  {
   "cell_type": "code",
   "execution_count": 71,
   "metadata": {},
   "outputs": [
    {
     "data": {
      "text/plain": [
       "Age_groups\n",
       "Underage    12177\n",
       "Old         13274\n",
       "Teen        18676\n",
       "Adult       25991\n",
       "Name: Numeric_show, dtype: int64"
      ]
     },
     "execution_count": 71,
     "metadata": {},
     "output_type": "execute_result"
    }
   ],
   "source": [
    "female=df.query('Gender == \"F\"')\n",
    "female.groupby('Age_groups')['Numeric_show'].count().sort_values()"
   ]
  },
  {
   "cell_type": "code",
   "execution_count": 72,
   "metadata": {
    "scrolled": true
   },
   "outputs": [
    {
     "data": {
      "text/html": [
       "<div>\n",
       "<style scoped>\n",
       "    .dataframe tbody tr th:only-of-type {\n",
       "        vertical-align: middle;\n",
       "    }\n",
       "\n",
       "    .dataframe tbody tr th {\n",
       "        vertical-align: top;\n",
       "    }\n",
       "\n",
       "    .dataframe thead th {\n",
       "        text-align: right;\n",
       "    }\n",
       "</style>\n",
       "<table border=\"1\" class=\"dataframe\">\n",
       "  <thead>\n",
       "    <tr style=\"text-align: right;\">\n",
       "      <th></th>\n",
       "      <th>Numeric_show</th>\n",
       "    </tr>\n",
       "    <tr>\n",
       "      <th>Age_groups</th>\n",
       "      <th></th>\n",
       "    </tr>\n",
       "  </thead>\n",
       "  <tbody>\n",
       "    <tr>\n",
       "      <th>Underage</th>\n",
       "      <td>12177</td>\n",
       "    </tr>\n",
       "    <tr>\n",
       "      <th>Old</th>\n",
       "      <td>13274</td>\n",
       "    </tr>\n",
       "    <tr>\n",
       "      <th>Teen</th>\n",
       "      <td>18676</td>\n",
       "    </tr>\n",
       "    <tr>\n",
       "      <th>Adult</th>\n",
       "      <td>25991</td>\n",
       "    </tr>\n",
       "  </tbody>\n",
       "</table>\n",
       "</div>"
      ],
      "text/plain": [
       "            Numeric_show\n",
       "Age_groups              \n",
       "Underage           12177\n",
       "Old                13274\n",
       "Teen               18676\n",
       "Adult              25991"
      ]
     },
     "execution_count": 72,
     "metadata": {},
     "output_type": "execute_result"
    },
    {
     "data": {
      "image/png": "[encoded data removed]",
      "text/plain": [
       "<Figure size 432x288 with 1 Axes>"
      ]
     },
     "metadata": {},
     "output_type": "display_data"
    }
   ],
   "source": [
    "#visualizing # number of female according to the age_groups\n",
    "labels = ['Underage','Old', 'Teen','Adult']\n",
    "value=female.groupby('Age_groups')['Numeric_show'].count().sort_values()\n",
    "plt.title('female patients grouped')\n",
    "pie, rtf= pie_plot(value,labels);\n",
    "rtf"
   ]
  },
  {
   "cell_type": "markdown",
   "metadata": {},
   "source": [
    "**Number of female that turnout in accordance to age group**"
   ]
  },
  {
   "cell_type": "code",
   "execution_count": 73,
   "metadata": {},
   "outputs": [
    {
     "data": {
      "text/html": [
       "<div>\n",
       "<style scoped>\n",
       "    .dataframe tbody tr th:only-of-type {\n",
       "        vertical-align: middle;\n",
       "    }\n",
       "\n",
       "    .dataframe tbody tr th {\n",
       "        vertical-align: top;\n",
       "    }\n",
       "\n",
       "    .dataframe thead th {\n",
       "        text-align: right;\n",
       "    }\n",
       "</style>\n",
       "<table border=\"1\" class=\"dataframe\">\n",
       "  <thead>\n",
       "    <tr style=\"text-align: right;\">\n",
       "      <th></th>\n",
       "      <th></th>\n",
       "      <th>Numeric_show</th>\n",
       "    </tr>\n",
       "    <tr>\n",
       "      <th>Age_groups</th>\n",
       "      <th>Numeric_show</th>\n",
       "      <th></th>\n",
       "    </tr>\n",
       "  </thead>\n",
       "  <tbody>\n",
       "    <tr>\n",
       "      <th rowspan=\"2\" valign=\"top\">Underage</th>\n",
       "      <th>0</th>\n",
       "      <td>9434</td>\n",
       "    </tr>\n",
       "    <tr>\n",
       "      <th>1</th>\n",
       "      <td>2743</td>\n",
       "    </tr>\n",
       "    <tr>\n",
       "      <th rowspan=\"2\" valign=\"top\">Teen</th>\n",
       "      <th>0</th>\n",
       "      <td>14210</td>\n",
       "    </tr>\n",
       "    <tr>\n",
       "      <th>1</th>\n",
       "      <td>4466</td>\n",
       "    </tr>\n",
       "    <tr>\n",
       "      <th rowspan=\"2\" valign=\"top\">Adult</th>\n",
       "      <th>0</th>\n",
       "      <td>21001</td>\n",
       "    </tr>\n",
       "    <tr>\n",
       "      <th>1</th>\n",
       "      <td>4990</td>\n",
       "    </tr>\n",
       "    <tr>\n",
       "      <th rowspan=\"2\" valign=\"top\">Old</th>\n",
       "      <th>0</th>\n",
       "      <td>11198</td>\n",
       "    </tr>\n",
       "    <tr>\n",
       "      <th>1</th>\n",
       "      <td>2076</td>\n",
       "    </tr>\n",
       "  </tbody>\n",
       "</table>\n",
       "</div>"
      ],
      "text/plain": [
       "                         Numeric_show\n",
       "Age_groups Numeric_show              \n",
       "Underage   0                     9434\n",
       "           1                     2743\n",
       "Teen       0                    14210\n",
       "           1                     4466\n",
       "Adult      0                    21001\n",
       "           1                     4990\n",
       "Old        0                    11198\n",
       "           1                     2076"
      ]
     },
     "execution_count": 73,
     "metadata": {},
     "output_type": "execute_result"
    },
    {
     "data": {
      "image/png": "[encoded data removed]",
      "text/plain": [
       "<Figure size 432x288 with 1 Axes>"
      ]
     },
     "metadata": {
      "needs_background": "light"
     },
     "output_type": "display_data"
    }
   ],
   "source": [
    "# visualization of Number of female that turnout in accordance to age group\n",
    "plt.title('Number of female that turnout in accordance to age group')\n",
    "plt.xlabel('Number of patients');\n",
    "plt.ylabel('Female in accordance to age group');\n",
    "data=female.groupby('Age_groups')['Numeric_show'].value_counts()\n",
    "bar, rtf =bar_equation(data);\n",
    "rtf"
   ]
  },
  {
   "cell_type": "code",
   "execution_count": 74,
   "metadata": {},
   "outputs": [
    {
     "data": {
      "text/plain": [
       "Old         2076\n",
       "Underage    2743\n",
       "Teen        4466\n",
       "Adult       4990\n",
       "Name: Age_groups, dtype: int64"
      ]
     },
     "execution_count": 74,
     "metadata": {},
     "output_type": "execute_result"
    }
   ],
   "source": [
    "#female that show up in accordance to the age groups\n",
    "female_show_group=female.Age_groups[df['Numeric_show']==1].value_counts()\n",
    "female_show_group.sort_values()"
   ]
  },
  {
   "cell_type": "code",
   "execution_count": 75,
   "metadata": {},
   "outputs": [
    {
     "data": {
      "text/plain": [
       "Age_groups\n",
       "Old         0.156396\n",
       "Adult       0.191990\n",
       "Underage    0.225261\n",
       "Teen        0.239130\n",
       "Name: Numeric_show, dtype: float64"
      ]
     },
     "execution_count": 75,
     "metadata": {},
     "output_type": "execute_result"
    }
   ],
   "source": [
    "#mean of female that show up in accordance to the number of female grouped.\n",
    "#comparison with the female present\n",
    "female.groupby('Age_groups')['Numeric_show'].mean().sort_values()"
   ]
  },
  {
   "cell_type": "code",
   "execution_count": 76,
   "metadata": {},
   "outputs": [
    {
     "data": {
      "text/html": [
       "<div>\n",
       "<style scoped>\n",
       "    .dataframe tbody tr th:only-of-type {\n",
       "        vertical-align: middle;\n",
       "    }\n",
       "\n",
       "    .dataframe tbody tr th {\n",
       "        vertical-align: top;\n",
       "    }\n",
       "\n",
       "    .dataframe thead th {\n",
       "        text-align: right;\n",
       "    }\n",
       "</style>\n",
       "<table border=\"1\" class=\"dataframe\">\n",
       "  <thead>\n",
       "    <tr style=\"text-align: right;\">\n",
       "      <th></th>\n",
       "      <th>Age_groups</th>\n",
       "    </tr>\n",
       "  </thead>\n",
       "  <tbody>\n",
       "    <tr>\n",
       "      <th>Adult</th>\n",
       "      <td>0.349562</td>\n",
       "    </tr>\n",
       "    <tr>\n",
       "      <th>Teen</th>\n",
       "      <td>0.312855</td>\n",
       "    </tr>\n",
       "    <tr>\n",
       "      <th>Underage</th>\n",
       "      <td>0.192154</td>\n",
       "    </tr>\n",
       "    <tr>\n",
       "      <th>Old</th>\n",
       "      <td>0.145429</td>\n",
       "    </tr>\n",
       "  </tbody>\n",
       "</table>\n",
       "</div>"
      ],
      "text/plain": [
       "          Age_groups\n",
       "Adult       0.349562\n",
       "Teen        0.312855\n",
       "Underage    0.192154\n",
       "Old         0.145429"
      ]
     },
     "execution_count": 76,
     "metadata": {},
     "output_type": "execute_result"
    },
    {
     "data": {
      "image/png": "[encoded data removed]",
      "text/plain": [
       "<Figure size 432x288 with 1 Axes>"
      ]
     },
     "metadata": {},
     "output_type": "display_data"
    }
   ],
   "source": [
    "#Visualization of mean for female that show up in accordance to the number of female that show\n",
    "value = (female_show_group/female.Age_groups[df['Numeric_show']==1].count())\n",
    "labels = ['Adult','Teen','Underage','Old']\n",
    "plt.title('female that show up in accordance to the number of female that show')\n",
    "pie, rtf= pie_plot(value,labels);\n",
    "rtf"
   ]
  },
  {
   "cell_type": "code",
   "execution_count": 77,
   "metadata": {},
   "outputs": [
    {
     "data": {
      "text/html": [
       "<div>\n",
       "<style scoped>\n",
       "    .dataframe tbody tr th:only-of-type {\n",
       "        vertical-align: middle;\n",
       "    }\n",
       "\n",
       "    .dataframe tbody tr th {\n",
       "        vertical-align: top;\n",
       "    }\n",
       "\n",
       "    .dataframe thead th {\n",
       "        text-align: right;\n",
       "    }\n",
       "</style>\n",
       "<table border=\"1\" class=\"dataframe\">\n",
       "  <thead>\n",
       "    <tr style=\"text-align: right;\">\n",
       "      <th></th>\n",
       "      <th>Age_groups</th>\n",
       "    </tr>\n",
       "  </thead>\n",
       "  <tbody>\n",
       "    <tr>\n",
       "      <th>Old</th>\n",
       "      <td>2076</td>\n",
       "    </tr>\n",
       "    <tr>\n",
       "      <th>Underage</th>\n",
       "      <td>2743</td>\n",
       "    </tr>\n",
       "    <tr>\n",
       "      <th>Teen</th>\n",
       "      <td>4466</td>\n",
       "    </tr>\n",
       "    <tr>\n",
       "      <th>Adult</th>\n",
       "      <td>4990</td>\n",
       "    </tr>\n",
       "  </tbody>\n",
       "</table>\n",
       "</div>"
      ],
      "text/plain": [
       "          Age_groups\n",
       "Old             2076\n",
       "Underage        2743\n",
       "Teen            4466\n",
       "Adult           4990"
      ]
     },
     "execution_count": 77,
     "metadata": {},
     "output_type": "execute_result"
    },
    {
     "data": {
      "image/png": "[encoded data removed]",
      "text/plain": [
       "<Figure size 432x288 with 1 Axes>"
      ]
     },
     "metadata": {
      "needs_background": "light"
     },
     "output_type": "display_data"
    }
   ],
   "source": [
    "#visualization of Number of female that show up in accordance to age group\n",
    "plt.title('Number of female that turnout in accordance to age group')\n",
    "plt.xlabel('Number of patients');\n",
    "plt.ylabel('Female in accordance to age group');\n",
    "data=female_show_group.sort_values()\n",
    "bar, rtf =bar_equation(data);\n",
    "rtf"
   ]
  },
  {
   "cell_type": "markdown",
   "metadata": {},
   "source": [
    "In accordance to the number of female show, most of the females that show up for appointment are adults (4,990) followed by teens females (4,466) then underage females (2,743). The Old females show up for their appointment the least (2,076).<br> \n",
    "The mean of female age group show based on the number of female that show, mojority of the females that show up for appointment are adults (0.35) followed by teens females (0.31) then underage females (0.19). The Old females show up for their appointment the least (0.15).<br>\n",
    "For the mean show of female in relation to the number of female, mojority of the females that show up for appointment are teen (0.24) followed by underage females  (0.23) then adult females (0.19). The Old females show up for their appointment the least (0.16)."
   ]
  },
  {
   "cell_type": "markdown",
   "metadata": {},
   "source": [
    "**What is the Number of male that turnout in accordance to age group?**<br>\n",
    "Number of male in accordance to age group"
   ]
  },
  {
   "cell_type": "code",
   "execution_count": 78,
   "metadata": {},
   "outputs": [
    {
     "data": {
      "text/html": [
       "<div>\n",
       "<style scoped>\n",
       "    .dataframe tbody tr th:only-of-type {\n",
       "        vertical-align: middle;\n",
       "    }\n",
       "\n",
       "    .dataframe tbody tr th {\n",
       "        vertical-align: top;\n",
       "    }\n",
       "\n",
       "    .dataframe thead th {\n",
       "        text-align: right;\n",
       "    }\n",
       "</style>\n",
       "<table border=\"1\" class=\"dataframe\">\n",
       "  <thead>\n",
       "    <tr style=\"text-align: right;\">\n",
       "      <th></th>\n",
       "      <th>Numeric_show</th>\n",
       "    </tr>\n",
       "    <tr>\n",
       "      <th>Age_groups</th>\n",
       "      <th></th>\n",
       "    </tr>\n",
       "  </thead>\n",
       "  <tbody>\n",
       "    <tr>\n",
       "      <th>Old</th>\n",
       "      <td>6488</td>\n",
       "    </tr>\n",
       "    <tr>\n",
       "      <th>Teen</th>\n",
       "      <td>6948</td>\n",
       "    </tr>\n",
       "    <tr>\n",
       "      <th>Underage</th>\n",
       "      <td>11663</td>\n",
       "    </tr>\n",
       "    <tr>\n",
       "      <th>Adult</th>\n",
       "      <td>11770</td>\n",
       "    </tr>\n",
       "  </tbody>\n",
       "</table>\n",
       "</div>"
      ],
      "text/plain": [
       "            Numeric_show\n",
       "Age_groups              \n",
       "Old                 6488\n",
       "Teen                6948\n",
       "Underage           11663\n",
       "Adult              11770"
      ]
     },
     "execution_count": 78,
     "metadata": {},
     "output_type": "execute_result"
    },
    {
     "data": {
      "image/png": "[encoded data removed]",
      "text/plain": [
       "<Figure size 432x288 with 1 Axes>"
      ]
     },
     "metadata": {},
     "output_type": "display_data"
    }
   ],
   "source": [
    "#visualizing # number of male according to the age_groups\n",
    "male=df.query('Gender == \"M\"')\n",
    "labels = ['Old','Teen','Underage','Adult']\n",
    "plt.title('male patients grouped');\n",
    "value = male.groupby('Age_groups')['Numeric_show'].count().sort_values()\n",
    "pie, rtf= pie_plot(value,labels);\n",
    "rtf"
   ]
  },
  {
   "cell_type": "code",
   "execution_count": 79,
   "metadata": {},
   "outputs": [
    {
     "data": {
      "text/html": [
       "<div>\n",
       "<style scoped>\n",
       "    .dataframe tbody tr th:only-of-type {\n",
       "        vertical-align: middle;\n",
       "    }\n",
       "\n",
       "    .dataframe tbody tr th {\n",
       "        vertical-align: top;\n",
       "    }\n",
       "\n",
       "    .dataframe thead th {\n",
       "        text-align: right;\n",
       "    }\n",
       "</style>\n",
       "<table border=\"1\" class=\"dataframe\">\n",
       "  <thead>\n",
       "    <tr style=\"text-align: right;\">\n",
       "      <th></th>\n",
       "      <th></th>\n",
       "      <th>Numeric_show</th>\n",
       "    </tr>\n",
       "    <tr>\n",
       "      <th>Age_groups</th>\n",
       "      <th>Numeric_show</th>\n",
       "      <th></th>\n",
       "    </tr>\n",
       "  </thead>\n",
       "  <tbody>\n",
       "    <tr>\n",
       "      <th rowspan=\"2\" valign=\"top\">Underage</th>\n",
       "      <th>0</th>\n",
       "      <td>9048</td>\n",
       "    </tr>\n",
       "    <tr>\n",
       "      <th>1</th>\n",
       "      <td>2615</td>\n",
       "    </tr>\n",
       "    <tr>\n",
       "      <th rowspan=\"2\" valign=\"top\">Teen</th>\n",
       "      <th>0</th>\n",
       "      <td>5311</td>\n",
       "    </tr>\n",
       "    <tr>\n",
       "      <th>1</th>\n",
       "      <td>1637</td>\n",
       "    </tr>\n",
       "    <tr>\n",
       "      <th rowspan=\"2\" valign=\"top\">Adult</th>\n",
       "      <th>0</th>\n",
       "      <td>9547</td>\n",
       "    </tr>\n",
       "    <tr>\n",
       "      <th>1</th>\n",
       "      <td>2223</td>\n",
       "    </tr>\n",
       "    <tr>\n",
       "      <th rowspan=\"2\" valign=\"top\">Old</th>\n",
       "      <th>0</th>\n",
       "      <td>5558</td>\n",
       "    </tr>\n",
       "    <tr>\n",
       "      <th>1</th>\n",
       "      <td>930</td>\n",
       "    </tr>\n",
       "  </tbody>\n",
       "</table>\n",
       "</div>"
      ],
      "text/plain": [
       "                         Numeric_show\n",
       "Age_groups Numeric_show              \n",
       "Underage   0                     9048\n",
       "           1                     2615\n",
       "Teen       0                     5311\n",
       "           1                     1637\n",
       "Adult      0                     9547\n",
       "           1                     2223\n",
       "Old        0                     5558\n",
       "           1                      930"
      ]
     },
     "execution_count": 79,
     "metadata": {},
     "output_type": "execute_result"
    },
    {
     "data": {
      "image/png": "[encoded data removed]",
      "text/plain": [
       "<Figure size 432x288 with 1 Axes>"
      ]
     },
     "metadata": {
      "needs_background": "light"
     },
     "output_type": "display_data"
    }
   ],
   "source": [
    "# visualization of Number of male that turnout in accordance to age group\n",
    "plt.title('Number of male that show up in accordance to age group')\n",
    "plt.ylabel('Number of patients');\n",
    "plt.xlabel('Male in accordance to age group');\n",
    "data = male.groupby('Age_groups')['Numeric_show'].value_counts()\n",
    "bar, rtf =bar_equation(data);\n",
    "rtf"
   ]
  },
  {
   "cell_type": "code",
   "execution_count": 80,
   "metadata": {},
   "outputs": [
    {
     "data": {
      "text/plain": [
       "Old          930\n",
       "Teen        1637\n",
       "Adult       2223\n",
       "Underage    2615\n",
       "Name: Age_groups, dtype: int64"
      ]
     },
     "execution_count": 80,
     "metadata": {},
     "output_type": "execute_result"
    }
   ],
   "source": [
    "#male that show up in accordance to the number of male\n",
    "male_show_group=male.Age_groups[df['Numeric_show']==1].value_counts()\n",
    "male_show_group.sort_values()"
   ]
  },
  {
   "cell_type": "code",
   "execution_count": 81,
   "metadata": {},
   "outputs": [
    {
     "data": {
      "text/plain": [
       "Age_groups\n",
       "Old         0.143342\n",
       "Adult       0.188870\n",
       "Underage    0.224213\n",
       "Teen        0.235607\n",
       "Name: Numeric_show, dtype: float64"
      ]
     },
     "execution_count": 81,
     "metadata": {},
     "output_type": "execute_result"
    }
   ],
   "source": [
    "#mean of male that show up in accordance to the number of male grouped.\n",
    "#comparison with the male present\n",
    "male.groupby('Age_groups')['Numeric_show'].mean().sort_values()"
   ]
  },
  {
   "cell_type": "code",
   "execution_count": 82,
   "metadata": {},
   "outputs": [
    {
     "data": {
      "text/html": [
       "<div>\n",
       "<style scoped>\n",
       "    .dataframe tbody tr th:only-of-type {\n",
       "        vertical-align: middle;\n",
       "    }\n",
       "\n",
       "    .dataframe tbody tr th {\n",
       "        vertical-align: top;\n",
       "    }\n",
       "\n",
       "    .dataframe thead th {\n",
       "        text-align: right;\n",
       "    }\n",
       "</style>\n",
       "<table border=\"1\" class=\"dataframe\">\n",
       "  <thead>\n",
       "    <tr style=\"text-align: right;\">\n",
       "      <th></th>\n",
       "      <th>Age_groups</th>\n",
       "    </tr>\n",
       "  </thead>\n",
       "  <tbody>\n",
       "    <tr>\n",
       "      <th>Underage</th>\n",
       "      <td>0.353140</td>\n",
       "    </tr>\n",
       "    <tr>\n",
       "      <th>Adult</th>\n",
       "      <td>0.300203</td>\n",
       "    </tr>\n",
       "    <tr>\n",
       "      <th>Teen</th>\n",
       "      <td>0.221067</td>\n",
       "    </tr>\n",
       "    <tr>\n",
       "      <th>Old</th>\n",
       "      <td>0.125591</td>\n",
       "    </tr>\n",
       "  </tbody>\n",
       "</table>\n",
       "</div>"
      ],
      "text/plain": [
       "          Age_groups\n",
       "Underage    0.353140\n",
       "Adult       0.300203\n",
       "Teen        0.221067\n",
       "Old         0.125591"
      ]
     },
     "execution_count": 82,
     "metadata": {},
     "output_type": "execute_result"
    },
    {
     "data": {
      "image/png": "[encoded data removed]",
      "text/plain": [
       "<Figure size 432x288 with 1 Axes>"
      ]
     },
     "metadata": {},
     "output_type": "display_data"
    }
   ],
   "source": [
    "#Visualization of mean for male that show up in accordance to the number of male that show\n",
    "value = (male_show_group/male.Age_groups[df['Numeric_show']==1].count())\n",
    "labels = ['Underage','Adult','Teen','Old']\n",
    "plt.title('male that show up in accordance to the number of female that show')\n",
    "pie, rtf= pie_plot(value,labels);\n",
    "rtf"
   ]
  },
  {
   "cell_type": "code",
   "execution_count": 83,
   "metadata": {},
   "outputs": [
    {
     "data": {
      "text/html": [
       "<div>\n",
       "<style scoped>\n",
       "    .dataframe tbody tr th:only-of-type {\n",
       "        vertical-align: middle;\n",
       "    }\n",
       "\n",
       "    .dataframe tbody tr th {\n",
       "        vertical-align: top;\n",
       "    }\n",
       "\n",
       "    .dataframe thead th {\n",
       "        text-align: right;\n",
       "    }\n",
       "</style>\n",
       "<table border=\"1\" class=\"dataframe\">\n",
       "  <thead>\n",
       "    <tr style=\"text-align: right;\">\n",
       "      <th></th>\n",
       "      <th>Age_groups</th>\n",
       "    </tr>\n",
       "  </thead>\n",
       "  <tbody>\n",
       "    <tr>\n",
       "      <th>Old</th>\n",
       "      <td>930</td>\n",
       "    </tr>\n",
       "    <tr>\n",
       "      <th>Teen</th>\n",
       "      <td>1637</td>\n",
       "    </tr>\n",
       "    <tr>\n",
       "      <th>Adult</th>\n",
       "      <td>2223</td>\n",
       "    </tr>\n",
       "    <tr>\n",
       "      <th>Underage</th>\n",
       "      <td>2615</td>\n",
       "    </tr>\n",
       "  </tbody>\n",
       "</table>\n",
       "</div>"
      ],
      "text/plain": [
       "          Age_groups\n",
       "Old              930\n",
       "Teen            1637\n",
       "Adult           2223\n",
       "Underage        2615"
      ]
     },
     "execution_count": 83,
     "metadata": {},
     "output_type": "execute_result"
    },
    {
     "data": {
      "image/png": "[encoded data removed]",
      "text/plain": [
       "<Figure size 432x288 with 1 Axes>"
      ]
     },
     "metadata": {
      "needs_background": "light"
     },
     "output_type": "display_data"
    }
   ],
   "source": [
    "#visualization of Number of male that show up in accordance to age group\n",
    "plt.title('Number of male that turnout in accordance to age group')\n",
    "plt.xlabel('Number of patients');\n",
    "plt.ylabel('male in accordance to age group');\n",
    "data = male_show_group.sort_values()\n",
    "bar, rtf =bar_equation(data);\n",
    "rtf"
   ]
  },
  {
   "cell_type": "markdown",
   "metadata": {},
   "source": [
    "In accordance to the number of male show, most of the males that show up for appointment are underage (2,615) followed by adults males (2,223) then teens males (1,637). The Old males show up for their appointment the least (930).<br> \n",
    "The mean of male age group show based on the number of male that show, have the mojority of the males show up for appointment as underage (0.35) followed by adults males (0.30) then teens males (0.22).The Old males show up for their appointment the least (0.13).<br>\n",
    "For the mean show of male in relation to the number of male, mojority of the males that show up for appointment are teen (0.24) followed by underage males (0.22) then adult males (0.19). The Old males show up for their appointment the least (0.14)."
   ]
  },
  {
   "cell_type": "code",
   "execution_count": 84,
   "metadata": {},
   "outputs": [
    {
     "data": {
      "text/plain": [
       "Age_groups\n",
       "Underage    True\n",
       "Teen        True\n",
       "Adult       True\n",
       "Old         True\n",
       "dtype: bool"
      ]
     },
     "execution_count": 84,
     "metadata": {},
     "output_type": "execute_result"
    }
   ],
   "source": [
    "# Ensuring the number of female that show up and male that show up add-up to number of patient that show up in the data\n",
    "df_show_age == female_show_group+male_show_group"
   ]
  },
  {
   "cell_type": "markdown",
   "metadata": {},
   "source": [
    "#### What's the relation of age to student with scholarship?"
   ]
  },
  {
   "cell_type": "code",
   "execution_count": 85,
   "metadata": {},
   "outputs": [
    {
     "data": {
      "text/html": [
       "<div>\n",
       "<style scoped>\n",
       "    .dataframe tbody tr th:only-of-type {\n",
       "        vertical-align: middle;\n",
       "    }\n",
       "\n",
       "    .dataframe tbody tr th {\n",
       "        vertical-align: top;\n",
       "    }\n",
       "\n",
       "    .dataframe thead th {\n",
       "        text-align: right;\n",
       "    }\n",
       "</style>\n",
       "<table border=\"1\" class=\"dataframe\">\n",
       "  <thead>\n",
       "    <tr style=\"text-align: right;\">\n",
       "      <th></th>\n",
       "      <th>Age_groups</th>\n",
       "    </tr>\n",
       "  </thead>\n",
       "  <tbody>\n",
       "    <tr>\n",
       "      <th>Adult</th>\n",
       "      <td>3881</td>\n",
       "    </tr>\n",
       "    <tr>\n",
       "      <th>Teen</th>\n",
       "      <td>3380</td>\n",
       "    </tr>\n",
       "    <tr>\n",
       "      <th>Underage</th>\n",
       "      <td>3010</td>\n",
       "    </tr>\n",
       "    <tr>\n",
       "      <th>Old</th>\n",
       "      <td>538</td>\n",
       "    </tr>\n",
       "  </tbody>\n",
       "</table>\n",
       "</div>"
      ],
      "text/plain": [
       "          Age_groups\n",
       "Adult           3881\n",
       "Teen            3380\n",
       "Underage        3010\n",
       "Old              538"
      ]
     },
     "execution_count": 85,
     "metadata": {},
     "output_type": "execute_result"
    },
    {
     "data": {
      "image/png": "[encoded data removed]",
      "text/plain": [
       "<Figure size 432x288 with 1 Axes>"
      ]
     },
     "metadata": {
      "needs_background": "light"
     },
     "output_type": "display_data"
    }
   ],
   "source": [
    "#Visualization of the patient with scholarship in terms of Age\n",
    "plt.title('Division of scholarship amongs the group ages')\n",
    "plt.ylabel('Number of patients');\n",
    "data = df.Age_groups[df['Scholarship']==1].value_counts()\n",
    "bar, rtf =bar_equation(data);\n",
    "rtf"
   ]
  },
  {
   "cell_type": "code",
   "execution_count": 86,
   "metadata": {
    "scrolled": true
   },
   "outputs": [
    {
     "data": {
      "text/plain": [
       "Underage    0.244186\n",
       "Teen        0.261243\n",
       "Adult       0.223911\n",
       "Old         0.156134\n",
       "Name: Age_groups, dtype: float64"
      ]
     },
     "execution_count": 86,
     "metadata": {},
     "output_type": "execute_result"
    }
   ],
   "source": [
    "#Division of scholarship show amongs the group ages\n",
    "scholarship_age_group=df_show.Age_groups[df['Scholarship']==1].value_counts()\n",
    "scholarship_age_group/df.Age_groups[df['Scholarship']==1].value_counts()"
   ]
  },
  {
   "cell_type": "code",
   "execution_count": 87,
   "metadata": {},
   "outputs": [
    {
     "data": {
      "text/html": [
       "<div>\n",
       "<style scoped>\n",
       "    .dataframe tbody tr th:only-of-type {\n",
       "        vertical-align: middle;\n",
       "    }\n",
       "\n",
       "    .dataframe tbody tr th {\n",
       "        vertical-align: top;\n",
       "    }\n",
       "\n",
       "    .dataframe thead th {\n",
       "        text-align: right;\n",
       "    }\n",
       "</style>\n",
       "<table border=\"1\" class=\"dataframe\">\n",
       "  <thead>\n",
       "    <tr style=\"text-align: right;\">\n",
       "      <th></th>\n",
       "      <th>Age_groups</th>\n",
       "    </tr>\n",
       "  </thead>\n",
       "  <tbody>\n",
       "    <tr>\n",
       "      <th>Teen</th>\n",
       "      <td>883</td>\n",
       "    </tr>\n",
       "    <tr>\n",
       "      <th>Adult</th>\n",
       "      <td>869</td>\n",
       "    </tr>\n",
       "    <tr>\n",
       "      <th>Underage</th>\n",
       "      <td>735</td>\n",
       "    </tr>\n",
       "    <tr>\n",
       "      <th>Old</th>\n",
       "      <td>84</td>\n",
       "    </tr>\n",
       "  </tbody>\n",
       "</table>\n",
       "</div>"
      ],
      "text/plain": [
       "          Age_groups\n",
       "Teen             883\n",
       "Adult            869\n",
       "Underage         735\n",
       "Old               84"
      ]
     },
     "execution_count": 87,
     "metadata": {},
     "output_type": "execute_result"
    },
    {
     "data": {
      "image/png": "[encoded data removed]",
      "text/plain": [
       "<Figure size 432x288 with 1 Axes>"
      ]
     },
     "metadata": {
      "needs_background": "light"
     },
     "output_type": "display_data"
    }
   ],
   "source": [
    "#Visualization of the patient with scholarship show in terms of Age\n",
    "plt.title('Division of scholarship show amongs the group ages')\n",
    "plt.ylabel('Number of patients');\n",
    "data = scholarship_age_group\n",
    "bar, rtf =bar_equation(data);\n",
    "rtf"
   ]
  },
  {
   "cell_type": "markdown",
   "metadata": {},
   "source": [
    "Most of the patients with scholarship are in their Teen, Adult and Underage age; 883, 869, 735 patients respectively. While the Old have the least number of patients with scholarship; 84 patients."
   ]
  },
  {
   "cell_type": "markdown",
   "metadata": {},
   "source": [
    "#### What's the relation of age to student with no scholarship show up?"
   ]
  },
  {
   "cell_type": "code",
   "execution_count": 88,
   "metadata": {
    "scrolled": true
   },
   "outputs": [
    {
     "data": {
      "text/plain": [
       "19109"
      ]
     },
     "execution_count": 88,
     "metadata": {},
     "output_type": "execute_result"
    }
   ],
   "source": [
    "# total number of student with no scholarship show up\n",
    "noscholarship_age_group=df_show.Age_groups[df['Scholarship']==0]\n",
    "noscholarship_age_group.count()"
   ]
  },
  {
   "cell_type": "code",
   "execution_count": 89,
   "metadata": {},
   "outputs": [
    {
     "data": {
      "text/plain": [
       "Adult       6344\n",
       "Teen        5220\n",
       "Underage    4623\n",
       "Old         2922\n",
       "Name: Age_groups, dtype: int64"
      ]
     },
     "execution_count": 89,
     "metadata": {},
     "output_type": "execute_result"
    }
   ],
   "source": [
    "#student with no scholarship show up divided in age groups\n",
    "noscholarship_age_group.value_counts()"
   ]
  },
  {
   "cell_type": "code",
   "execution_count": 90,
   "metadata": {},
   "outputs": [
    {
     "data": {
      "text/plain": [
       "Adult       0.331990\n",
       "Teen        0.273170\n",
       "Underage    0.241928\n",
       "Old         0.152912\n",
       "Name: Age_groups, dtype: float64"
      ]
     },
     "execution_count": 90,
     "metadata": {},
     "output_type": "execute_result"
    }
   ],
   "source": [
    "#mean of student with no scholarship show up\n",
    "noscholarship_age_group.value_counts()/noscholarship_age_group.count()"
   ]
  },
  {
   "cell_type": "code",
   "execution_count": 91,
   "metadata": {},
   "outputs": [
    {
     "data": {
      "text/html": [
       "<div>\n",
       "<style scoped>\n",
       "    .dataframe tbody tr th:only-of-type {\n",
       "        vertical-align: middle;\n",
       "    }\n",
       "\n",
       "    .dataframe tbody tr th {\n",
       "        vertical-align: top;\n",
       "    }\n",
       "\n",
       "    .dataframe thead th {\n",
       "        text-align: right;\n",
       "    }\n",
       "</style>\n",
       "<table border=\"1\" class=\"dataframe\">\n",
       "  <thead>\n",
       "    <tr style=\"text-align: right;\">\n",
       "      <th></th>\n",
       "      <th>Age_groups</th>\n",
       "    </tr>\n",
       "  </thead>\n",
       "  <tbody>\n",
       "    <tr>\n",
       "      <th>Adult</th>\n",
       "      <td>6344</td>\n",
       "    </tr>\n",
       "    <tr>\n",
       "      <th>Teen</th>\n",
       "      <td>5220</td>\n",
       "    </tr>\n",
       "    <tr>\n",
       "      <th>Underage</th>\n",
       "      <td>4623</td>\n",
       "    </tr>\n",
       "    <tr>\n",
       "      <th>Old</th>\n",
       "      <td>2922</td>\n",
       "    </tr>\n",
       "  </tbody>\n",
       "</table>\n",
       "</div>"
      ],
      "text/plain": [
       "          Age_groups\n",
       "Adult           6344\n",
       "Teen            5220\n",
       "Underage        4623\n",
       "Old             2922"
      ]
     },
     "execution_count": 91,
     "metadata": {},
     "output_type": "execute_result"
    },
    {
     "data": {
      "image/png": "[encoded data removed]",
      "text/plain": [
       "<Figure size 432x288 with 1 Axes>"
      ]
     },
     "metadata": {
      "needs_background": "light"
     },
     "output_type": "display_data"
    }
   ],
   "source": [
    "#Visualization of the patient with no scholarship in terms of Age\n",
    "plt.title('Division of noscholarship patients amongs the group ages')\n",
    "plt.ylabel('Number of patients');\n",
    "data = noscholarship_age_group.value_counts()\n",
    "bar, rtf =bar_equation(data);\n",
    "rtf"
   ]
  },
  {
   "cell_type": "markdown",
   "metadata": {},
   "source": [
    "Out of 96,178 patients without scholarships, 19,109 Patients show up for the appointment. Majority of them are Adult (0.33) followed by teens (0.27) and underage (0.24). The Old are the least in numbers with only 0.15."
   ]
  },
  {
   "cell_type": "markdown",
   "metadata": {},
   "source": [
    "#### What's the relation Gender  to student with scholarship?"
   ]
  },
  {
   "cell_type": "code",
   "execution_count": 92,
   "metadata": {},
   "outputs": [
    {
     "data": {
      "text/plain": [
       "F    2103\n",
       "M     468\n",
       "Name: Gender, dtype: int64"
      ]
     },
     "execution_count": 92,
     "metadata": {},
     "output_type": "execute_result"
    }
   ],
   "source": [
    "scholarship_Gender=df_show.Gender[df['Scholarship']==1]\n",
    "scholarship_Gender.value_counts()"
   ]
  },
  {
   "cell_type": "markdown",
   "metadata": {},
   "source": [
    "Out of the 2,571 students with scholarship, 468 are male while 2,103 are female"
   ]
  },
  {
   "attachments": {
    "image-18.png": {
     "image/png": "[encoded data removed]"
    },
    "image-19.png": {
     "image/png": "[encoded data removed]"
    },
    "image-21.png": {
     "image/png": "[encoded data removed]"
    },
    "image-23.png": {
     "image/png": "[encoded data removed]"
    },
    "image-25.png": {
     "image/png": "[encoded data removed]"
    },
    "image-28.png": {
     "image/png": "[encoded data removed]"
    },
    "image-29.png": {
     "image/png": "[encoded data removed]"
    },
    "image-30.png": {
     "image/png": "[encoded data removed]"
    },
    "image-31.png": {
     "image/png": "[encoded data removed]"
    },
    "image-32.png": {
     "image/png": "[encoded data removed]"
    },
    "image-33.png": {
     "image/png": "[encoded data removed]"
    },
    "image-34.png": {
     "image/png": "[encoded data removed]"
    },
    "image-6.png": {
     "image/png": "[encoded data removed]"
    }
   },
   "cell_type": "markdown",
   "metadata": {},
   "source": [
    "<a id='conclusions'></a>\n",
    "## Conclusions\n",
    "The dataset collected from medical appointments in Brazil consists of 110, 527 patients described in 14 columns. In accordance to the investination of the dataset, the question to be handle only requires four columns; Age, Gender, No show and Scholarship. However, two new columns were added one to represent the no_show in a numerical format and the other to group the data in accordance to the age groups. The rest of the columns were dropped leaving the dataset to have 6 columns to be analysed. There is no missing or duplicated data during the investigation hence, no replace or dropping was done in regards to the any data missing or duplicated.<br>\n",
    "After review of the data, the patients with negative and zero ages value were removed as having a negative age or zero age for patient is unrealistic causing a reduction of the number patients to 106,987. The column with the No-show was renamed from No-show to No_show for easy extraction of data.<br>\n",
    "The dataset comprises of 21,680 patients(20.26%) that show up and 85,307 patients(79.74%).<br>\n",
    "![Proportion of patients that show up for appointment](attachment:image-28.png)<br>\n",
    "From the dataset, there are 70,118 female (65.54%) and 36,869 male (34.46%) hence there are more female than Men by 33,249. As compared to men, woman takes way more care of they health better. A greater portion of the females and male don't show up for the appointment; only 20.36% of the 70,118 total number of female show up for the appointment while 79.64% don't show up for the appointment.<br>\n",
    "![Proportion of female that show up for appointment](attachment:image-29.png)\n",
    "<br>This is the same for men as only 20.08% out of 36,869 men show up for the appointment while, 79.92% don't show up for the appointment.<br>\n",
    "![Proportion of male that show up for appointment](attachment:image-30.png)\n",
    "<br>In relation to the numbers of female and males, women show up for their appointment more than men with 6870 female show up for their appointment than men.<br>\n",
    "![Proportion of Men and female that show up for appointment](attachment:image-18.png)\n",
    "<br>In contrast to the mean, female show up for their appointment more than men with approximately 0.0027, which accounts for 59 patient, more female show up than men.<br>\n",
    "![Proportion of Men and female that show up for appointment in relation to the mean](attachment:image-19.png)\n",
    "<br>In accordance to age groups, most of the females are in there adluthood (37%),followed by teen females (27%) and old females (19%) while the underage make up the least number of females (17%)<br> \n",
    "![Female patients grouped](attachment:image-21.png)\n",
    "<br>- Out of the 25,991 adult females only 0.19 show up for appointment. This account for 35% of the total female show.<br>- Out of the 18,676 teen females only 0.24 show up for appointment. This account for 31% of the total female show.\n",
    "<br>- Out of the 13,274 old females only 0.15 show up for appointment. This account for 15% of the total female show\n",
    "<br>- Out of the underage females only 0.23 show up for appointment. This account for 19% of the total female show\n",
    "<br>\n",
    "![Female turnout in accordance to the number of females grouped](attachment:image-31.png)\n",
    "<br>In accordance to age groups, most of the males are in there adluthood (31.9%), followed by underage males (31.6%) and teen males (18.9%) while the old make up the least number of males (17.6%)<br> \n",
    "![male patients grouped](attachment:image-23.png)\n",
    "<br>- Out of the 11,770 adult males only 0.19 show up for appointment. This account for 30% of the total male show.<br>- Out of the 6,948 teen males only 0.24 show up for appointment. This account for 22% of the total male show.\n",
    "<br>- Out of the 6,488 old males only 0.14 show up for appointment. This account for 13% of the total male show\n",
    "<br>- Out of the underage males only 0.22 show up for appointment. This account for 35% of the total male show\n",
    "<br>\n",
    "![male turnout in accordance to the number of males grouped](attachment:image-32.png)\n",
    "<br>From the dataset, 10,809 patients benefit from the *Bolsa Família* financial aid with accounts for 10.10% of the total patients. The number of students that adhere to the scholarships terms by showing up for the appointment is 2,571 which approximately 23.79% of the total number of patients with scholarship.<br>\n",
    "![Proportion of Scholarship patients that show up for appointment](attachment:image-33.png)\n",
    "<br>Compared to the number of patients without scholarship, those with scholarship show up more for appointment; only 19.86% of patients without scholarship show for appointment.\n",
    "<br>\n",
    "![Comparison of patients with Scholarship and those without turnout](attachment:image-25.png)\n",
    "<br>Patients with scholarship consists mostly of Young generations; Adult, teen and underage student while a few are Old.\n",
    "<br>- Out of the 3,881 adult patients with scholarship only 0.22 show up for appointment.\n",
    "<br>- Out of the 3,380 teen patients with scholarship only 0.22 show up for appointment.\n",
    "<br>- Out of the 538 old patients with scholarship only 0.15 show up for appointment.\n",
    "<br>- Out of the 3,010 underage patients with scholarship only 0.24 show up for appointment.\n",
    "<br>Out of the 2,571 students with scholarship, 468 are male while 2,103 are female\n",
    "![Division of scholarship show amongs the group ages](attachment:image-34.png)\n",
    "<br>\n",
    "<br>Most of the patients in the data set are in their Adult age (35%) while the Underage and teen typically makes appointments; 22% and 24% respeactively. The old make appointments the least with 18%  patients. Most of the patient that show up for the appointment are Young; Teens(0.238) and underage(0.224) while the adults and old show up the least; Adults (0.19) and Old (0.15).<br>\n",
    "![Relationship between age with appointment showing up](attachment:image-6.png)\n",
    "**Limitation of the analysis**\n",
    "<br>During the analysis, data containing zero and negative values was drop as the values were unrealistic. This involve the removal of 3,539 rows. The rows contained other important data thus a better way should be recommended instead of the drop method.\n",
    "<br> A standard way of grouping the data in accordance to ages in stead of 0.00 - 17.0,18.0- 35.0, 36.0 - 60.0, 61.0 - 115.0]. Although the method gives results for different groups, it may vary from different places.\n",
    "<br> Further analysis of patients show up for appointment in relation to the PatientId, AppointmentID, ScheduledDay, AppointmentDay, Neighbourhood, Hipertension, Diabetes, Alcoholism, Handcap\tand SMS_received should be done.\n"
   ]
  },
  {
   "cell_type": "markdown",
   "metadata": {},
   "source": [
    "**Resources Used**<br>\n",
    "[Medical Appointment No Shows](https://d17h27t6h515a5.cloudfront.net/topher/2017/October/59dd2e9a_noshowappointments-kagglev2-may-2016/noshowappointments-kagglev2-may-2016.csv)<br>\n",
    "[Grouped Bar Charts with Labels in Matplotlib](https://www.pythoncharts.com/matplotlib/grouped-bar-charts-matplotlib/)<br>\n",
    "[More advanced plotting with Pandas Matplotlib](https://geo-python.github.io/site/notebooks/L7/advanced-plotting.html)"
   ]
  }
 ],
 "metadata": {
  "kernelspec": {
   "display_name": "Python 3 (ipykernel)",
   "language": "python",
   "name": "python3"
  },
  "language_info": {
   "codemirror_mode": {
    "name": "ipython",
    "version": 3
   },
   "file_extension": ".py",
   "mimetype": "text/x-python",
   "name": "python",
   "nbconvert_exporter": "python",
   "pygments_lexer": "ipython3",
   "version": "3.9.15"
  }
 },
 "nbformat": 4,
 "nbformat_minor": 2
}
